{
 "cells": [
  {
   "cell_type": "code",
   "execution_count": 1,
   "metadata": {
    "collapsed": false
   },
   "outputs": [],
   "source": [
    "p = {}\n",
    "with open(\"data/displayTrain.txt\", \"r\") as f:\n",
    "    line = f.readline()\n",
    "      \n",
    "    i = 0\n",
    "    \n",
    "    while line:\n",
    "        \n",
    "        vals = map(int, line[1:-2].split(','))\n",
    "        for i in range(1,len(vals)):\n",
    "            if (vals[0], vals[i]) in p:\n",
    "                p[(vals[0], vals[i])] += 1\n",
    "            else:\n",
    "                p[(vals[0], vals[i])] = 1\n",
    "\n",
    "        line = f.readline();\n",
    "        i += 1\n",
    "               \n",
    "f.close()\n",
    "        "
   ]
  },
  {
   "cell_type": "code",
   "execution_count": 33,
   "metadata": {
    "collapsed": false
   },
   "outputs": [],
   "source": [
    "import pandas as pd\n",
    "train = pd.read_csv(\"data/clicks_train.csv\", usecols=['ad_id','clicked'])\n",
    "\n",
    "ad_likelihood = train.groupby('ad_id').clicked.agg(['mean'])"
   ]
  },
  {
   "cell_type": "code",
   "execution_count": 50,
   "metadata": {
    "collapsed": false,
    "scrolled": true
   },
   "outputs": [],
   "source": [
    "bp = ad_likelihood['mean'].to_dict()"
   ]
  },
  {
   "cell_type": "code",
   "execution_count": 66,
   "metadata": {
    "collapsed": false
   },
   "outputs": [],
   "source": [
    "meanAds = ad_likelihood.reset_index()['ad_id'].tolist()"
   ]
  },
  {
   "cell_type": "code",
   "execution_count": 71,
   "metadata": {
    "collapsed": true
   },
   "outputs": [],
   "source": [
    "adId1 = pd.read_csv(\"data/clicks_test.csv\", usecols=['ad_id'])\n",
    "allTestAds = adId1['ad_id'].unique()\n",
    "\n",
    "del adId1"
   ]
  },
  {
   "cell_type": "code",
   "execution_count": 72,
   "metadata": {
    "collapsed": false
   },
   "outputs": [],
   "source": [
    "sAll = set(allTestAds)\n",
    "sMean = set(meanAds)\n",
    "\n",
    "sMissing = sAll.difference(sMean)"
   ]
  },
  {
   "cell_type": "code",
   "execution_count": 75,
   "metadata": {
    "collapsed": false
   },
   "outputs": [],
   "source": [
    "for i in sMissing:\n",
    "    bp[i] = 0.0"
   ]
  },
  {
   "cell_type": "code",
   "execution_count": 82,
   "metadata": {
    "collapsed": false,
    "scrolled": false
   },
   "outputs": [],
   "source": [
    "ads = []\n",
    "v10 = 0\n",
    "v01 = 0\n",
    "\n",
    "j = 0\n",
    "\n",
    "with open('data/displayTest.txt', 'r') as f:\n",
    "           \n",
    "    line = f.readline()\n",
    "    \n",
    "    while line:\n",
    "        \n",
    "#         j += 1\n",
    "#         if ((j % 1000) == 0):\n",
    "#             print(\"{}\".format(j))\n",
    "     \n",
    "    \n",
    "        vals = map(int, line[1:-2].split(','))\n",
    "\n",
    "        swap = True\n",
    "\n",
    "       \n",
    "        while swap:  # Bubble sort\n",
    "\n",
    "            swap = False\n",
    "            for i in range(len(vals) - 1):\n",
    "                \n",
    "                bp1 = bp[vals[i+1]]\n",
    "                bp0 = bp[vals[i]]\n",
    "                \n",
    "                if (vals[i+1], vals[i]) in p:\n",
    "                    v10 = p[(vals[i+1], vals[i])] + bp1\n",
    "                else: v10 = bp1\n",
    "\n",
    "                if (vals[i], vals[i+1]) in p:\n",
    "                    v01 = p[(vals[i], vals[i+1])] + bp0\n",
    "                else: v01 = bp0\n",
    "\n",
    "                if (v10 > v01):\n",
    "                    temp = vals[i]\n",
    "                    vals[i] = vals[i+1]\n",
    "                    vals[i+1] = temp\n",
    "                    swap = True\n",
    "                    \n",
    "        ads.append(vals)\n",
    "        \n",
    "        line = f.readline()\n",
    "        "
   ]
  },
  {
   "cell_type": "code",
   "execution_count": 83,
   "metadata": {
    "collapsed": false
   },
   "outputs": [],
   "source": [
    "import pandas as pd\n",
    "\n",
    "displayId = pd.read_csv(\"data/clicks_test.csv\", usecols=['display_id'])\n",
    "displayId = displayId['display_id'].unique()"
   ]
  },
  {
   "cell_type": "code",
   "execution_count": 84,
   "metadata": {
    "collapsed": true
   },
   "outputs": [],
   "source": [
    "combined = zip(displayId, ads)"
   ]
  },
  {
   "cell_type": "code",
   "execution_count": 85,
   "metadata": {
    "collapsed": false
   },
   "outputs": [],
   "source": [
    "with open('data/advad.csv', 'w') as f:\n",
    "    \n",
    "    f.write('display_id,ad_id\\n')\n",
    "    \n",
    "    for line in combined:\n",
    "        \n",
    "        f.write('{},{}\\n'.format(line[0], ' '.join(map(str,line[1]))))\n",
    "    \n",
    "f.close()"
   ]
  },
  {
   "cell_type": "code",
   "execution_count": null,
   "metadata": {
    "collapsed": true
   },
   "outputs": [],
   "source": []
  }
 ],
 "metadata": {
  "anaconda-cloud": {},
  "kernelspec": {
   "display_name": "Python [default]",
   "language": "python",
   "name": "python2"
  },
  "language_info": {
   "codemirror_mode": {
    "name": "ipython",
    "version": 2
   },
   "file_extension": ".py",
   "mimetype": "text/x-python",
   "name": "python",
   "nbconvert_exporter": "python",
   "pygments_lexer": "ipython2",
   "version": "2.7.12"
  }
 },
 "nbformat": 4,
 "nbformat_minor": 1
}
