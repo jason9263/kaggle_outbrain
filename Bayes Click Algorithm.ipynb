{
 "cells": [
  {
   "cell_type": "markdown",
   "metadata": {},
   "source": [
    "## Implements the Bayes prediction for clicked and not clicked "
   ]
  },
  {
   "cell_type": "code",
   "execution_count": 1,
   "metadata": {
    "collapsed": true
   },
   "outputs": [],
   "source": [
    "import pandas as pd\n",
    "import numpy as np\n",
    "\n",
    "import matplotlib.pyplot as plt\n",
    "import seaborn as sns\n",
    "%matplotlib inline\n",
    "\n",
    "p = sns.color_palette()\n",
    "\n",
    "dtypes = {'display_id' : np.int32, 'ad_id': np.int32, 'clicked': np.int8}"
   ]
  },
  {
   "cell_type": "markdown",
   "metadata": {},
   "source": [
    "## Where is our data?"
   ]
  },
  {
   "cell_type": "code",
   "execution_count": 2,
   "metadata": {
    "collapsed": true
   },
   "outputs": [],
   "source": [
    "dataDir = \"data/\"  # Directory where our data is stored"
   ]
  },
  {
   "cell_type": "markdown",
   "metadata": {},
   "source": [
    "## Reads the training data from CSV file"
   ]
  },
  {
   "cell_type": "code",
   "execution_count": 3,
   "metadata": {
    "collapsed": false
   },
   "outputs": [],
   "source": [
    "dfTrain = pd.read_csv(dataDir + \"clicks_train.csv\", usecols=['display_id', 'ad_id', 'clicked'], dtype=dtypes)"
   ]
  },
  {
   "cell_type": "markdown",
   "metadata": {},
   "source": [
    "## Calculate the count, sum, and mean for each ad. "
   ]
  },
  {
   "cell_type": "code",
   "execution_count": 4,
   "metadata": {
    "collapsed": false,
    "scrolled": true
   },
   "outputs": [],
   "source": [
    "ad_likelihood = dfTrain.groupby('ad_id')['clicked'].agg(['count','sum','mean'])\n",
    "\n",
    "ad_likelihood = ad_likelihood.rename(columns={'sum' : 'number of time this ad was clicked', 'mean' : 'P(ad_id|+)',\n",
    "                                             'count' : 'number of times this ad appeared'})\n"
   ]
  },
  {
   "cell_type": "markdown",
   "metadata": {},
   "source": [
    "## Calculate the number of ads in each display."
   ]
  },
  {
   "cell_type": "code",
   "execution_count": 5,
   "metadata": {
    "collapsed": false
   },
   "outputs": [],
   "source": [
    "dfTrain['# ads in display'] = dfTrain.groupby('display_id')['ad_id'].transform('count')\n",
    "\n",
    "ad_likelihood['# ads in display'] = dfTrain['# ads in display']"
   ]
  },
  {
   "cell_type": "markdown",
   "metadata": {},
   "source": [
    "## Get global click ratio mean, # of displays, and # of ads"
   ]
  },
  {
   "cell_type": "code",
   "execution_count": 6,
   "metadata": {
    "collapsed": false
   },
   "outputs": [
    {
     "name": "stdout",
     "output_type": "stream",
     "text": [
      "There are 478,950 unique ads in 16,874,593 unique displays for a total of 87,141,731 ads displayed\n",
      "Probability that an ad is clicked is = 0.193645\n"
     ]
    }
   ],
   "source": [
    "countTotAdsDisplayed = float(dfTrain.shape[0])\n",
    "uniqueAds = float(len(dfTrain['ad_id'].unique()))\n",
    "uniqueDisplays = float(len(dfTrain['display_id'].unique()))\n",
    "\n",
    "print ('There are {:,d} unique ads in {:,d} unique displays for a total of {:,d} ads displayed'\n",
    "       .format(int(uniqueAds), int(uniqueDisplays), int(countTotAdsDisplayed)))\n",
    "\n",
    "meanClicked = dfTrain['clicked'].mean()\n",
    "print ('Probability that an ad is clicked is = {:f}'.format(meanClicked))"
   ]
  },
  {
   "cell_type": "markdown",
   "metadata": {},
   "source": [
    "## Possible replacement for likelihood\n",
    "\n",
    "### Use Bayes Law as the measure. So likelihood of being clicked given ad = ad_id\n",
    "\n",
    "+ $P(+ \\mid {ad\\_id})$ = # ads with ad_id in the set of all clicked ads divided by total **[kyle - this should always be a very low number correct?]**\n",
    "+ $P(+)$ = clicks divided by (clicks plus not clicks) **[kyle - agreed]**\n",
    "+ $P(+ \\mid {\\neg{ad\\_id}})$ = # clicks for all ads not ad_id ($\\neg{ad\\_id}$) over total **[kyle - This should be a very high number mostly? close to 1.0? Do you not just do (1 - $P(+ \\mid {ad\\_id})$) because this is just the negation?]** \n",
    "+ $P({\\neg{ad\\_id}})$ = # not ad_id over total ads (1 - frequency of ad_id) **[kyle - agreed]**\n",
    "\n",
    "$\\huge P(+ \\mid {ad\\_id}) = \\frac{P({ad\\_id} \\ \\mid \\ +) \\ \\times \\ P(+)}{ P({ad\\_id} \\ \\mid \\ +) \\  \\times \\ P(+) \\ + \\ P(+ \\ \\mid \\ \\neg{ad\\_id}) \\times P(\\neg{ad\\_id})}$"
   ]
  },
  {
   "cell_type": "markdown",
   "metadata": {},
   "source": [
    "## $P(+) = \\frac{\\text{# clicks}}{\\text{# clicks} \\ + \\ \\text{# not clicks}}$"
   ]
  },
  {
   "cell_type": "code",
   "execution_count": 7,
   "metadata": {
    "collapsed": false,
    "scrolled": true
   },
   "outputs": [],
   "source": [
    "clicks = dfTrain.groupby('clicked').count()\n",
    "totClicks = float(clicks.values[1][1])  # Total number of ads that were clicked\n",
    "totNonClicks = float(clicks.values[0][0]) # Total number of ads that were not clicked\n",
    "totEvents = totClicks + totNonClicks\n",
    "Pclicked = totClicks / float(totEvents)\n",
    "ad_likelihood['P(+)'] = Pclicked"
   ]
  },
  {
   "cell_type": "markdown",
   "metadata": {},
   "source": [
    "## P(other ads) = 1 - # times this ad appeared / # of times all ads appeared\n",
    "This is going to be 1.0 or nearly so since most ads only appear a few times. From Anokas' EDA (https://www.kaggle.com/anokas/outbrain-click-prediction/outbrain-eda) 97% of the ads appear in less than 1000 of the over 87 million ad displays. The most frequent ad was in 211K of the 87 million ad displays (0.243%)"
   ]
  },
  {
   "cell_type": "code",
   "execution_count": 8,
   "metadata": {
    "collapsed": false
   },
   "outputs": [],
   "source": [
    "ad_likelihood['P(other ads)'] = 1.0 - ad_likelihood['number of times this ad appeared'] / countTotAdsDisplayed"
   ]
  },
  {
   "cell_type": "code",
   "execution_count": 9,
   "metadata": {
    "collapsed": false,
    "scrolled": false
   },
   "outputs": [
    {
     "data": {
      "image/png": "[encoded data removed]",
      "text/plain": [
       "<matplotlib.figure.Figure at 0x7f5663647c90>"
      ]
     },
     "metadata": {},
     "output_type": "display_data"
    }
   ],
   "source": [
    "sns.distplot(ad_likelihood['P(other ads)'], kde=False);"
   ]
  },
  {
   "cell_type": "markdown",
   "metadata": {},
   "source": [
    "## Not sure of this.\n",
    "\n",
    "The conditional probability $P(B \\mid A)$ is defined as $\\large \\frac{P(A \\land B)}{P(A)}$\n",
    "\n",
    "So $P(+ \\mid \\neg \\text{ad}) = \\large \\frac{P(\\neg \\text{ad} \\land +)}{P(+)}$\n",
    "\n",
    "Therefore, I need to find the probability that other ads are clicked in the display and divide by the probability of the average ad being clicked.\n",
    "\n",
    "Does that sound correct? **[kyle - I think for every other ad in the display you must find the probability of that ad being clicked then combine all of them, perhaps they are disjoint because we know not the order of ad being given to a user, so there are just all ads in front of the user and they must select one. In the table below shouldn't P(+|other ad) be of a value between 0-1?]**"
   ]
  },
  {
   "cell_type": "code",
   "execution_count": 10,
   "metadata": {
    "collapsed": false,
    "scrolled": false
   },
   "outputs": [
    {
     "data": {
      "text/html": [
       "<div>\n",
       "<table border=\"1\" class=\"dataframe\">\n",
       "  <thead>\n",
       "    <tr style=\"text-align: right;\">\n",
       "      <th></th>\n",
       "      <th>number of times this ad appeared</th>\n",
       "      <th>number of time this ad was clicked</th>\n",
       "      <th>P(ad_id|+)</th>\n",
       "      <th># ads in display</th>\n",
       "      <th>P(+)</th>\n",
       "      <th>P(other ads)</th>\n",
       "      <th>P(+|other ad)</th>\n",
       "    </tr>\n",
       "    <tr>\n",
       "      <th>ad_id</th>\n",
       "      <th></th>\n",
       "      <th></th>\n",
       "      <th></th>\n",
       "      <th></th>\n",
       "      <th></th>\n",
       "      <th></th>\n",
       "      <th></th>\n",
       "    </tr>\n",
       "  </thead>\n",
       "  <tbody>\n",
       "    <tr>\n",
       "      <th>1</th>\n",
       "      <td>2</td>\n",
       "      <td>0.0</td>\n",
       "      <td>0.000000</td>\n",
       "      <td>6</td>\n",
       "      <td>0.193645</td>\n",
       "      <td>1.000000</td>\n",
       "      <td>4.303399</td>\n",
       "    </tr>\n",
       "    <tr>\n",
       "      <th>2</th>\n",
       "      <td>22</td>\n",
       "      <td>1.0</td>\n",
       "      <td>0.045455</td>\n",
       "      <td>6</td>\n",
       "      <td>0.193645</td>\n",
       "      <td>1.000000</td>\n",
       "      <td>4.303399</td>\n",
       "    </tr>\n",
       "    <tr>\n",
       "      <th>3</th>\n",
       "      <td>161</td>\n",
       "      <td>11.0</td>\n",
       "      <td>0.068323</td>\n",
       "      <td>6</td>\n",
       "      <td>0.193645</td>\n",
       "      <td>0.999998</td>\n",
       "      <td>4.303399</td>\n",
       "    </tr>\n",
       "    <tr>\n",
       "      <th>4</th>\n",
       "      <td>32</td>\n",
       "      <td>4.0</td>\n",
       "      <td>0.125000</td>\n",
       "      <td>6</td>\n",
       "      <td>0.193645</td>\n",
       "      <td>1.000000</td>\n",
       "      <td>4.303399</td>\n",
       "    </tr>\n",
       "    <tr>\n",
       "      <th>5</th>\n",
       "      <td>1</td>\n",
       "      <td>0.0</td>\n",
       "      <td>0.000000</td>\n",
       "      <td>6</td>\n",
       "      <td>0.193645</td>\n",
       "      <td>1.000000</td>\n",
       "      <td>4.303399</td>\n",
       "    </tr>\n",
       "    <tr>\n",
       "      <th>6</th>\n",
       "      <td>1</td>\n",
       "      <td>0.0</td>\n",
       "      <td>0.000000</td>\n",
       "      <td>4</td>\n",
       "      <td>0.193645</td>\n",
       "      <td>1.000000</td>\n",
       "      <td>3.873059</td>\n",
       "    </tr>\n",
       "    <tr>\n",
       "      <th>7</th>\n",
       "      <td>3406</td>\n",
       "      <td>985.0</td>\n",
       "      <td>0.289196</td>\n",
       "      <td>4</td>\n",
       "      <td>0.193645</td>\n",
       "      <td>0.999961</td>\n",
       "      <td>3.873059</td>\n",
       "    </tr>\n",
       "    <tr>\n",
       "      <th>8</th>\n",
       "      <td>28</td>\n",
       "      <td>4.0</td>\n",
       "      <td>0.142857</td>\n",
       "      <td>4</td>\n",
       "      <td>0.193645</td>\n",
       "      <td>1.000000</td>\n",
       "      <td>3.873059</td>\n",
       "    </tr>\n",
       "    <tr>\n",
       "      <th>9</th>\n",
       "      <td>3</td>\n",
       "      <td>0.0</td>\n",
       "      <td>0.000000</td>\n",
       "      <td>4</td>\n",
       "      <td>0.193645</td>\n",
       "      <td>1.000000</td>\n",
       "      <td>3.873059</td>\n",
       "    </tr>\n",
       "    <tr>\n",
       "      <th>10</th>\n",
       "      <td>81</td>\n",
       "      <td>9.0</td>\n",
       "      <td>0.111111</td>\n",
       "      <td>6</td>\n",
       "      <td>0.193645</td>\n",
       "      <td>0.999999</td>\n",
       "      <td>4.303399</td>\n",
       "    </tr>\n",
       "    <tr>\n",
       "      <th>11</th>\n",
       "      <td>11</td>\n",
       "      <td>0.0</td>\n",
       "      <td>0.000000</td>\n",
       "      <td>6</td>\n",
       "      <td>0.193645</td>\n",
       "      <td>1.000000</td>\n",
       "      <td>4.303399</td>\n",
       "    </tr>\n",
       "    <tr>\n",
       "      <th>12</th>\n",
       "      <td>12</td>\n",
       "      <td>2.0</td>\n",
       "      <td>0.166667</td>\n",
       "      <td>6</td>\n",
       "      <td>0.193645</td>\n",
       "      <td>1.000000</td>\n",
       "      <td>4.303399</td>\n",
       "    </tr>\n",
       "    <tr>\n",
       "      <th>13</th>\n",
       "      <td>8</td>\n",
       "      <td>1.0</td>\n",
       "      <td>0.125000</td>\n",
       "      <td>6</td>\n",
       "      <td>0.193645</td>\n",
       "      <td>1.000000</td>\n",
       "      <td>4.303399</td>\n",
       "    </tr>\n",
       "    <tr>\n",
       "      <th>14</th>\n",
       "      <td>10</td>\n",
       "      <td>1.0</td>\n",
       "      <td>0.100000</td>\n",
       "      <td>6</td>\n",
       "      <td>0.193645</td>\n",
       "      <td>1.000000</td>\n",
       "      <td>4.303399</td>\n",
       "    </tr>\n",
       "    <tr>\n",
       "      <th>15</th>\n",
       "      <td>2</td>\n",
       "      <td>0.0</td>\n",
       "      <td>0.000000</td>\n",
       "      <td>6</td>\n",
       "      <td>0.193645</td>\n",
       "      <td>1.000000</td>\n",
       "      <td>4.303399</td>\n",
       "    </tr>\n",
       "    <tr>\n",
       "      <th>16</th>\n",
       "      <td>3</td>\n",
       "      <td>1.0</td>\n",
       "      <td>0.333333</td>\n",
       "      <td>5</td>\n",
       "      <td>0.193645</td>\n",
       "      <td>1.000000</td>\n",
       "      <td>4.131263</td>\n",
       "    </tr>\n",
       "    <tr>\n",
       "      <th>17</th>\n",
       "      <td>20</td>\n",
       "      <td>2.0</td>\n",
       "      <td>0.100000</td>\n",
       "      <td>5</td>\n",
       "      <td>0.193645</td>\n",
       "      <td>1.000000</td>\n",
       "      <td>4.131263</td>\n",
       "    </tr>\n",
       "    <tr>\n",
       "      <th>18</th>\n",
       "      <td>9</td>\n",
       "      <td>0.0</td>\n",
       "      <td>0.000000</td>\n",
       "      <td>5</td>\n",
       "      <td>0.193645</td>\n",
       "      <td>1.000000</td>\n",
       "      <td>4.131263</td>\n",
       "    </tr>\n",
       "    <tr>\n",
       "      <th>20</th>\n",
       "      <td>14</td>\n",
       "      <td>0.0</td>\n",
       "      <td>0.000000</td>\n",
       "      <td>5</td>\n",
       "      <td>0.193645</td>\n",
       "      <td>1.000000</td>\n",
       "      <td>4.131263</td>\n",
       "    </tr>\n",
       "    <tr>\n",
       "      <th>21</th>\n",
       "      <td>32</td>\n",
       "      <td>0.0</td>\n",
       "      <td>0.000000</td>\n",
       "      <td>5</td>\n",
       "      <td>0.193645</td>\n",
       "      <td>1.000000</td>\n",
       "      <td>4.131263</td>\n",
       "    </tr>\n",
       "    <tr>\n",
       "      <th>22</th>\n",
       "      <td>4</td>\n",
       "      <td>0.0</td>\n",
       "      <td>0.000000</td>\n",
       "      <td>5</td>\n",
       "      <td>0.193645</td>\n",
       "      <td>1.000000</td>\n",
       "      <td>4.131263</td>\n",
       "    </tr>\n",
       "    <tr>\n",
       "      <th>23</th>\n",
       "      <td>11</td>\n",
       "      <td>2.0</td>\n",
       "      <td>0.181818</td>\n",
       "      <td>5</td>\n",
       "      <td>0.193645</td>\n",
       "      <td>1.000000</td>\n",
       "      <td>4.131263</td>\n",
       "    </tr>\n",
       "    <tr>\n",
       "      <th>24</th>\n",
       "      <td>13</td>\n",
       "      <td>0.0</td>\n",
       "      <td>0.000000</td>\n",
       "      <td>5</td>\n",
       "      <td>0.193645</td>\n",
       "      <td>1.000000</td>\n",
       "      <td>4.131263</td>\n",
       "    </tr>\n",
       "    <tr>\n",
       "      <th>25</th>\n",
       "      <td>1</td>\n",
       "      <td>0.0</td>\n",
       "      <td>0.000000</td>\n",
       "      <td>5</td>\n",
       "      <td>0.193645</td>\n",
       "      <td>1.000000</td>\n",
       "      <td>4.131263</td>\n",
       "    </tr>\n",
       "    <tr>\n",
       "      <th>26</th>\n",
       "      <td>22</td>\n",
       "      <td>1.0</td>\n",
       "      <td>0.045455</td>\n",
       "      <td>6</td>\n",
       "      <td>0.193645</td>\n",
       "      <td>1.000000</td>\n",
       "      <td>4.303399</td>\n",
       "    </tr>\n",
       "    <tr>\n",
       "      <th>27</th>\n",
       "      <td>4</td>\n",
       "      <td>0.0</td>\n",
       "      <td>0.000000</td>\n",
       "      <td>6</td>\n",
       "      <td>0.193645</td>\n",
       "      <td>1.000000</td>\n",
       "      <td>4.303399</td>\n",
       "    </tr>\n",
       "    <tr>\n",
       "      <th>28</th>\n",
       "      <td>12</td>\n",
       "      <td>0.0</td>\n",
       "      <td>0.000000</td>\n",
       "      <td>6</td>\n",
       "      <td>0.193645</td>\n",
       "      <td>1.000000</td>\n",
       "      <td>4.303399</td>\n",
       "    </tr>\n",
       "    <tr>\n",
       "      <th>29</th>\n",
       "      <td>5</td>\n",
       "      <td>0.0</td>\n",
       "      <td>0.000000</td>\n",
       "      <td>6</td>\n",
       "      <td>0.193645</td>\n",
       "      <td>1.000000</td>\n",
       "      <td>4.303399</td>\n",
       "    </tr>\n",
       "    <tr>\n",
       "      <th>30</th>\n",
       "      <td>3</td>\n",
       "      <td>0.0</td>\n",
       "      <td>0.000000</td>\n",
       "      <td>6</td>\n",
       "      <td>0.193645</td>\n",
       "      <td>1.000000</td>\n",
       "      <td>4.303399</td>\n",
       "    </tr>\n",
       "    <tr>\n",
       "      <th>31</th>\n",
       "      <td>18</td>\n",
       "      <td>3.0</td>\n",
       "      <td>0.166667</td>\n",
       "      <td>6</td>\n",
       "      <td>0.193645</td>\n",
       "      <td>1.000000</td>\n",
       "      <td>4.303399</td>\n",
       "    </tr>\n",
       "    <tr>\n",
       "      <th>32</th>\n",
       "      <td>2</td>\n",
       "      <td>1.0</td>\n",
       "      <td>0.500000</td>\n",
       "      <td>3</td>\n",
       "      <td>0.193645</td>\n",
       "      <td>1.000000</td>\n",
       "      <td>3.442719</td>\n",
       "    </tr>\n",
       "    <tr>\n",
       "      <th>33</th>\n",
       "      <td>16</td>\n",
       "      <td>1.0</td>\n",
       "      <td>0.062500</td>\n",
       "      <td>3</td>\n",
       "      <td>0.193645</td>\n",
       "      <td>1.000000</td>\n",
       "      <td>3.442719</td>\n",
       "    </tr>\n",
       "    <tr>\n",
       "      <th>34</th>\n",
       "      <td>23</td>\n",
       "      <td>0.0</td>\n",
       "      <td>0.000000</td>\n",
       "      <td>3</td>\n",
       "      <td>0.193645</td>\n",
       "      <td>1.000000</td>\n",
       "      <td>3.442719</td>\n",
       "    </tr>\n",
       "    <tr>\n",
       "      <th>35</th>\n",
       "      <td>18</td>\n",
       "      <td>0.0</td>\n",
       "      <td>0.000000</td>\n",
       "      <td>4</td>\n",
       "      <td>0.193645</td>\n",
       "      <td>1.000000</td>\n",
       "      <td>3.873059</td>\n",
       "    </tr>\n",
       "    <tr>\n",
       "      <th>36</th>\n",
       "      <td>23</td>\n",
       "      <td>1.0</td>\n",
       "      <td>0.043478</td>\n",
       "      <td>4</td>\n",
       "      <td>0.193645</td>\n",
       "      <td>1.000000</td>\n",
       "      <td>3.873059</td>\n",
       "    </tr>\n",
       "    <tr>\n",
       "      <th>39</th>\n",
       "      <td>10</td>\n",
       "      <td>0.0</td>\n",
       "      <td>0.000000</td>\n",
       "      <td>4</td>\n",
       "      <td>0.193645</td>\n",
       "      <td>1.000000</td>\n",
       "      <td>3.873059</td>\n",
       "    </tr>\n",
       "    <tr>\n",
       "      <th>40</th>\n",
       "      <td>16</td>\n",
       "      <td>2.0</td>\n",
       "      <td>0.125000</td>\n",
       "      <td>4</td>\n",
       "      <td>0.193645</td>\n",
       "      <td>1.000000</td>\n",
       "      <td>3.873059</td>\n",
       "    </tr>\n",
       "    <tr>\n",
       "      <th>41</th>\n",
       "      <td>3</td>\n",
       "      <td>0.0</td>\n",
       "      <td>0.000000</td>\n",
       "      <td>4</td>\n",
       "      <td>0.193645</td>\n",
       "      <td>1.000000</td>\n",
       "      <td>3.873059</td>\n",
       "    </tr>\n",
       "    <tr>\n",
       "      <th>42</th>\n",
       "      <td>1</td>\n",
       "      <td>0.0</td>\n",
       "      <td>0.000000</td>\n",
       "      <td>4</td>\n",
       "      <td>0.193645</td>\n",
       "      <td>1.000000</td>\n",
       "      <td>3.873059</td>\n",
       "    </tr>\n",
       "    <tr>\n",
       "      <th>43</th>\n",
       "      <td>1</td>\n",
       "      <td>0.0</td>\n",
       "      <td>0.000000</td>\n",
       "      <td>2</td>\n",
       "      <td>0.193645</td>\n",
       "      <td>1.000000</td>\n",
       "      <td>2.582039</td>\n",
       "    </tr>\n",
       "  </tbody>\n",
       "</table>\n",
       "</div>"
      ],
      "text/plain": [
       "       number of times this ad appeared  number of time this ad was clicked  \\\n",
       "ad_id                                                                         \n",
       "1                                     2                                 0.0   \n",
       "2                                    22                                 1.0   \n",
       "3                                   161                                11.0   \n",
       "4                                    32                                 4.0   \n",
       "5                                     1                                 0.0   \n",
       "6                                     1                                 0.0   \n",
       "7                                  3406                               985.0   \n",
       "8                                    28                                 4.0   \n",
       "9                                     3                                 0.0   \n",
       "10                                   81                                 9.0   \n",
       "11                                   11                                 0.0   \n",
       "12                                   12                                 2.0   \n",
       "13                                    8                                 1.0   \n",
       "14                                   10                                 1.0   \n",
       "15                                    2                                 0.0   \n",
       "16                                    3                                 1.0   \n",
       "17                                   20                                 2.0   \n",
       "18                                    9                                 0.0   \n",
       "20                                   14                                 0.0   \n",
       "21                                   32                                 0.0   \n",
       "22                                    4                                 0.0   \n",
       "23                                   11                                 2.0   \n",
       "24                                   13                                 0.0   \n",
       "25                                    1                                 0.0   \n",
       "26                                   22                                 1.0   \n",
       "27                                    4                                 0.0   \n",
       "28                                   12                                 0.0   \n",
       "29                                    5                                 0.0   \n",
       "30                                    3                                 0.0   \n",
       "31                                   18                                 3.0   \n",
       "32                                    2                                 1.0   \n",
       "33                                   16                                 1.0   \n",
       "34                                   23                                 0.0   \n",
       "35                                   18                                 0.0   \n",
       "36                                   23                                 1.0   \n",
       "39                                   10                                 0.0   \n",
       "40                                   16                                 2.0   \n",
       "41                                    3                                 0.0   \n",
       "42                                    1                                 0.0   \n",
       "43                                    1                                 0.0   \n",
       "\n",
       "       P(ad_id|+)  # ads in display      P(+)  P(other ads)  P(+|other ad)  \n",
       "ad_id                                                                       \n",
       "1        0.000000                 6  0.193645      1.000000       4.303399  \n",
       "2        0.045455                 6  0.193645      1.000000       4.303399  \n",
       "3        0.068323                 6  0.193645      0.999998       4.303399  \n",
       "4        0.125000                 6  0.193645      1.000000       4.303399  \n",
       "5        0.000000                 6  0.193645      1.000000       4.303399  \n",
       "6        0.000000                 4  0.193645      1.000000       3.873059  \n",
       "7        0.289196                 4  0.193645      0.999961       3.873059  \n",
       "8        0.142857                 4  0.193645      1.000000       3.873059  \n",
       "9        0.000000                 4  0.193645      1.000000       3.873059  \n",
       "10       0.111111                 6  0.193645      0.999999       4.303399  \n",
       "11       0.000000                 6  0.193645      1.000000       4.303399  \n",
       "12       0.166667                 6  0.193645      1.000000       4.303399  \n",
       "13       0.125000                 6  0.193645      1.000000       4.303399  \n",
       "14       0.100000                 6  0.193645      1.000000       4.303399  \n",
       "15       0.000000                 6  0.193645      1.000000       4.303399  \n",
       "16       0.333333                 5  0.193645      1.000000       4.131263  \n",
       "17       0.100000                 5  0.193645      1.000000       4.131263  \n",
       "18       0.000000                 5  0.193645      1.000000       4.131263  \n",
       "20       0.000000                 5  0.193645      1.000000       4.131263  \n",
       "21       0.000000                 5  0.193645      1.000000       4.131263  \n",
       "22       0.000000                 5  0.193645      1.000000       4.131263  \n",
       "23       0.181818                 5  0.193645      1.000000       4.131263  \n",
       "24       0.000000                 5  0.193645      1.000000       4.131263  \n",
       "25       0.000000                 5  0.193645      1.000000       4.131263  \n",
       "26       0.045455                 6  0.193645      1.000000       4.303399  \n",
       "27       0.000000                 6  0.193645      1.000000       4.303399  \n",
       "28       0.000000                 6  0.193645      1.000000       4.303399  \n",
       "29       0.000000                 6  0.193645      1.000000       4.303399  \n",
       "30       0.000000                 6  0.193645      1.000000       4.303399  \n",
       "31       0.166667                 6  0.193645      1.000000       4.303399  \n",
       "32       0.500000                 3  0.193645      1.000000       3.442719  \n",
       "33       0.062500                 3  0.193645      1.000000       3.442719  \n",
       "34       0.000000                 3  0.193645      1.000000       3.442719  \n",
       "35       0.000000                 4  0.193645      1.000000       3.873059  \n",
       "36       0.043478                 4  0.193645      1.000000       3.873059  \n",
       "39       0.000000                 4  0.193645      1.000000       3.873059  \n",
       "40       0.125000                 4  0.193645      1.000000       3.873059  \n",
       "41       0.000000                 4  0.193645      1.000000       3.873059  \n",
       "42       0.000000                 4  0.193645      1.000000       3.873059  \n",
       "43       0.000000                 2  0.193645      1.000000       2.582039  "
      ]
     },
     "execution_count": 10,
     "metadata": {},
     "output_type": "execute_result"
    }
   ],
   "source": [
    "ad_likelihood['P(+|other ad)'] = (1.0 - 1.0 / ad_likelihood['# ads in display']) / ad_likelihood['P(+)']\n",
    "ad_likelihood.head(40)"
   ]
  },
  {
   "cell_type": "markdown",
   "metadata": {},
   "source": [
    "## Now put everything together"
   ]
  },
  {
   "cell_type": "code",
   "execution_count": 11,
   "metadata": {
    "collapsed": false,
    "scrolled": false
   },
   "outputs": [
    {
     "data": {
      "text/html": [
       "<div>\n",
       "<table border=\"1\" class=\"dataframe\">\n",
       "  <thead>\n",
       "    <tr style=\"text-align: right;\">\n",
       "      <th></th>\n",
       "      <th>number of times this ad appeared</th>\n",
       "      <th>number of time this ad was clicked</th>\n",
       "      <th>P(ad_id|+)</th>\n",
       "      <th># ads in display</th>\n",
       "      <th>P(+)</th>\n",
       "      <th>P(other ads)</th>\n",
       "      <th>P(+|other ad)</th>\n",
       "      <th>likelihood</th>\n",
       "    </tr>\n",
       "    <tr>\n",
       "      <th>ad_id</th>\n",
       "      <th></th>\n",
       "      <th></th>\n",
       "      <th></th>\n",
       "      <th></th>\n",
       "      <th></th>\n",
       "      <th></th>\n",
       "      <th></th>\n",
       "      <th></th>\n",
       "    </tr>\n",
       "  </thead>\n",
       "  <tbody>\n",
       "    <tr>\n",
       "      <th>1</th>\n",
       "      <td>2</td>\n",
       "      <td>0.0</td>\n",
       "      <td>0.000000</td>\n",
       "      <td>6</td>\n",
       "      <td>0.193645</td>\n",
       "      <td>1.000000</td>\n",
       "      <td>4.303399</td>\n",
       "      <td>0.000000</td>\n",
       "    </tr>\n",
       "    <tr>\n",
       "      <th>2</th>\n",
       "      <td>22</td>\n",
       "      <td>1.0</td>\n",
       "      <td>0.045455</td>\n",
       "      <td>6</td>\n",
       "      <td>0.193645</td>\n",
       "      <td>1.000000</td>\n",
       "      <td>4.303399</td>\n",
       "      <td>0.002041</td>\n",
       "    </tr>\n",
       "    <tr>\n",
       "      <th>3</th>\n",
       "      <td>161</td>\n",
       "      <td>11.0</td>\n",
       "      <td>0.068323</td>\n",
       "      <td>6</td>\n",
       "      <td>0.193645</td>\n",
       "      <td>0.999998</td>\n",
       "      <td>4.303399</td>\n",
       "      <td>0.003065</td>\n",
       "    </tr>\n",
       "    <tr>\n",
       "      <th>4</th>\n",
       "      <td>32</td>\n",
       "      <td>4.0</td>\n",
       "      <td>0.125000</td>\n",
       "      <td>6</td>\n",
       "      <td>0.193645</td>\n",
       "      <td>1.000000</td>\n",
       "      <td>4.303399</td>\n",
       "      <td>0.005593</td>\n",
       "    </tr>\n",
       "    <tr>\n",
       "      <th>5</th>\n",
       "      <td>1</td>\n",
       "      <td>0.0</td>\n",
       "      <td>0.000000</td>\n",
       "      <td>6</td>\n",
       "      <td>0.193645</td>\n",
       "      <td>1.000000</td>\n",
       "      <td>4.303399</td>\n",
       "      <td>0.000000</td>\n",
       "    </tr>\n",
       "  </tbody>\n",
       "</table>\n",
       "</div>"
      ],
      "text/plain": [
       "       number of times this ad appeared  number of time this ad was clicked  \\\n",
       "ad_id                                                                         \n",
       "1                                     2                                 0.0   \n",
       "2                                    22                                 1.0   \n",
       "3                                   161                                11.0   \n",
       "4                                    32                                 4.0   \n",
       "5                                     1                                 0.0   \n",
       "\n",
       "       P(ad_id|+)  # ads in display      P(+)  P(other ads)  P(+|other ad)  \\\n",
       "ad_id                                                                        \n",
       "1        0.000000                 6  0.193645      1.000000       4.303399   \n",
       "2        0.045455                 6  0.193645      1.000000       4.303399   \n",
       "3        0.068323                 6  0.193645      0.999998       4.303399   \n",
       "4        0.125000                 6  0.193645      1.000000       4.303399   \n",
       "5        0.000000                 6  0.193645      1.000000       4.303399   \n",
       "\n",
       "       likelihood  \n",
       "ad_id              \n",
       "1        0.000000  \n",
       "2        0.002041  \n",
       "3        0.003065  \n",
       "4        0.005593  \n",
       "5        0.000000  "
      ]
     },
     "execution_count": 11,
     "metadata": {},
     "output_type": "execute_result"
    }
   ],
   "source": [
    "ad_likelihood['likelihood'] = (ad_likelihood['P(ad_id|+)'] * ad_likelihood['P(+)']) / \\\n",
    "                              ((ad_likelihood['P(ad_id|+)'] * ad_likelihood['P(+)']) + \\\n",
    "                              ad_likelihood['P(+|other ad)'] * ad_likelihood['P(other ads)'])\n",
    "ad_likelihood.head()"
   ]
  },
  {
   "cell_type": "code",
   "execution_count": 12,
   "metadata": {
    "collapsed": false,
    "scrolled": true
   },
   "outputs": [
    {
     "data": {
      "image/png": "[encoded data removed]",
      "text/plain": [
       "<matplotlib.figure.Figure at 0x7f5663647850>"
      ]
     },
     "metadata": {},
     "output_type": "display_data"
    }
   ],
   "source": [
    "sns.distplot(ad_likelihood['likelihood']);"
   ]
  },
  {
   "cell_type": "code",
   "execution_count": 23,
   "metadata": {
    "collapsed": false
   },
   "outputs": [],
   "source": [
    "ad_likelihood = ad_likelihood.reset_index()"
   ]
  },
  {
   "cell_type": "code",
   "execution_count": 28,
   "metadata": {
    "collapsed": false
   },
   "outputs": [],
   "source": [
    "ad_likelihood = ad_likelihood[['ad_id', 'likelihood']]"
   ]
  },
  {
   "cell_type": "markdown",
   "metadata": {},
   "source": [
    "## Read the test data"
   ]
  },
  {
   "cell_type": "code",
   "execution_count": 29,
   "metadata": {
    "collapsed": true
   },
   "outputs": [],
   "source": [
    "del dfTrain  # free up memory"
   ]
  },
  {
   "cell_type": "code",
   "execution_count": 30,
   "metadata": {
    "collapsed": false
   },
   "outputs": [],
   "source": [
    "dfTest = pd.read_csv(dataDir + \"clicks_test.csv\")"
   ]
  },
  {
   "cell_type": "markdown",
   "metadata": {},
   "source": [
    "## Add the ad_likelihood to the test data"
   ]
  },
  {
   "cell_type": "code",
   "execution_count": 31,
   "metadata": {
    "collapsed": false
   },
   "outputs": [],
   "source": [
    "ad_likelihood = ad_likelihood.reset_index()  # Bring the ad_id back into the columns\n",
    "dfTest = dfTest.merge(ad_likelihood, how='left', on='ad_id')"
   ]
  },
  {
   "cell_type": "code",
   "execution_count": 32,
   "metadata": {
    "collapsed": false,
    "scrolled": true
   },
   "outputs": [
    {
     "data": {
      "text/html": [
       "<div>\n",
       "<table border=\"1\" class=\"dataframe\">\n",
       "  <thead>\n",
       "    <tr style=\"text-align: right;\">\n",
       "      <th></th>\n",
       "      <th>display_id</th>\n",
       "      <th>ad_id</th>\n",
       "      <th>index</th>\n",
       "      <th>likelihood</th>\n",
       "    </tr>\n",
       "  </thead>\n",
       "  <tbody>\n",
       "    <tr>\n",
       "      <th>0</th>\n",
       "      <td>16874594</td>\n",
       "      <td>66758</td>\n",
       "      <td>60180.0</td>\n",
       "      <td>0.003295</td>\n",
       "    </tr>\n",
       "    <tr>\n",
       "      <th>1</th>\n",
       "      <td>16874594</td>\n",
       "      <td>150083</td>\n",
       "      <td>132990.0</td>\n",
       "      <td>0.003048</td>\n",
       "    </tr>\n",
       "    <tr>\n",
       "      <th>2</th>\n",
       "      <td>16874594</td>\n",
       "      <td>162754</td>\n",
       "      <td>144273.0</td>\n",
       "      <td>0.010649</td>\n",
       "    </tr>\n",
       "    <tr>\n",
       "      <th>3</th>\n",
       "      <td>16874594</td>\n",
       "      <td>170392</td>\n",
       "      <td>151292.0</td>\n",
       "      <td>0.017176</td>\n",
       "    </tr>\n",
       "    <tr>\n",
       "      <th>4</th>\n",
       "      <td>16874594</td>\n",
       "      <td>172888</td>\n",
       "      <td>153545.0</td>\n",
       "      <td>0.015171</td>\n",
       "    </tr>\n",
       "  </tbody>\n",
       "</table>\n",
       "</div>"
      ],
      "text/plain": [
       "   display_id   ad_id     index  likelihood\n",
       "0    16874594   66758   60180.0    0.003295\n",
       "1    16874594  150083  132990.0    0.003048\n",
       "2    16874594  162754  144273.0    0.010649\n",
       "3    16874594  170392  151292.0    0.017176\n",
       "4    16874594  172888  153545.0    0.015171"
      ]
     },
     "execution_count": 32,
     "metadata": {},
     "output_type": "execute_result"
    }
   ],
   "source": [
    "dfTest.head()"
   ]
  },
  {
   "cell_type": "markdown",
   "metadata": {},
   "source": [
    "## Replace any NaNs with the global mean"
   ]
  },
  {
   "cell_type": "markdown",
   "metadata": {},
   "source": [
    "**[do we know how many NANs there are and if so to which ad_id. This method of imputation can really kill the variance. Especially because so many ad_ids have so little occurances in the data set. This can mask many potential patterns.]**"
   ]
  },
  {
   "cell_type": "code",
   "execution_count": 33,
   "metadata": {
    "collapsed": true
   },
   "outputs": [],
   "source": [
    "dfTest['likelihood'].fillna(meanClicked, inplace=True)"
   ]
  },
  {
   "cell_type": "markdown",
   "metadata": {},
   "source": [
    "## Rearrange the table sorting the ads based on likelihood. This gives us the ad order."
   ]
  },
  {
   "cell_type": "code",
   "execution_count": 34,
   "metadata": {
    "collapsed": true
   },
   "outputs": [],
   "source": [
    "dfTest.sort_values(['display_id','likelihood'], inplace=True, ascending=False)"
   ]
  },
  {
   "cell_type": "markdown",
   "metadata": {},
   "source": [
    "## Now just combine rows of the dataframe so that the ads and listed after each display_id. "
   ]
  },
  {
   "cell_type": "code",
   "execution_count": 35,
   "metadata": {
    "collapsed": false
   },
   "outputs": [],
   "source": [
    "subm = dfTest.groupby('display_id')['ad_id'].apply(lambda x: \" \".join(map(str,x))).reset_index()"
   ]
  },
  {
   "cell_type": "code",
   "execution_count": 36,
   "metadata": {
    "collapsed": false
   },
   "outputs": [
    {
     "data": {
      "text/html": [
       "<div>\n",
       "<table border=\"1\" class=\"dataframe\">\n",
       "  <thead>\n",
       "    <tr style=\"text-align: right;\">\n",
       "      <th></th>\n",
       "      <th>display_id</th>\n",
       "      <th>ad_id</th>\n",
       "    </tr>\n",
       "  </thead>\n",
       "  <tbody>\n",
       "    <tr>\n",
       "      <th>0</th>\n",
       "      <td>16874594</td>\n",
       "      <td>170392 172888 162754 66758 150083 180797</td>\n",
       "    </tr>\n",
       "    <tr>\n",
       "      <th>1</th>\n",
       "      <td>16874595</td>\n",
       "      <td>8846 143982 30609</td>\n",
       "    </tr>\n",
       "    <tr>\n",
       "      <th>2</th>\n",
       "      <td>16874596</td>\n",
       "      <td>11430 289915 132820 289122 57197 153260 173005...</td>\n",
       "    </tr>\n",
       "    <tr>\n",
       "      <th>3</th>\n",
       "      <td>16874597</td>\n",
       "      <td>305790 285834 143981 182039 155945 180965 1378...</td>\n",
       "    </tr>\n",
       "    <tr>\n",
       "      <th>4</th>\n",
       "      <td>16874598</td>\n",
       "      <td>145937 335632 67292 250082</td>\n",
       "    </tr>\n",
       "  </tbody>\n",
       "</table>\n",
       "</div>"
      ],
      "text/plain": [
       "   display_id                                              ad_id\n",
       "0    16874594           170392 172888 162754 66758 150083 180797\n",
       "1    16874595                                  8846 143982 30609\n",
       "2    16874596  11430 289915 132820 289122 57197 153260 173005...\n",
       "3    16874597  305790 285834 143981 182039 155945 180965 1378...\n",
       "4    16874598                         145937 335632 67292 250082"
      ]
     },
     "execution_count": 36,
     "metadata": {},
     "output_type": "execute_result"
    }
   ],
   "source": [
    "subm.head()"
   ]
  },
  {
   "cell_type": "code",
   "execution_count": 37,
   "metadata": {
    "collapsed": false
   },
   "outputs": [],
   "source": [
    "subm.to_csv(dataDir + \"submissionBayes.csv\", header=True, index=False)"
   ]
  },
  {
   "cell_type": "code",
   "execution_count": null,
   "metadata": {
    "collapsed": true
   },
   "outputs": [],
   "source": []
  }
 ],
 "metadata": {
  "anaconda-cloud": {},
  "kernelspec": {
   "display_name": "Python [default]",
   "language": "python",
   "name": "python2"
  },
  "language_info": {
   "codemirror_mode": {
    "name": "ipython",
    "version": 2
   },
   "file_extension": ".py",
   "mimetype": "text/x-python",
   "name": "python",
   "nbconvert_exporter": "python",
   "pygments_lexer": "ipython2",
   "version": "2.7.12"
  }
 },
 "nbformat": 4,
 "nbformat_minor": 1
}
