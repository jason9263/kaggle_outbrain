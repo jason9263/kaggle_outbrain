{
 "cells": [
  {
   "cell_type": "markdown",
   "metadata": {},
   "source": [
    "### Preliminary submission looking at basic inter-likeness of clikcing an ad"
   ]
  },
  {
   "cell_type": "markdown",
   "metadata": {},
   "source": [
    "thought list:\n",
    "- how many times has an ad appeared?\n",
    "- how many times has an ad been clicked?\n",
    "- % of time the ad was clicked vs appeared\n",
    "- the more an ad appears the higher chance it has of being clicked (as a baseline truth, not thinking about locale, user diversity, etc)\n",
    "- can I generate a weight to rank each ad based on the above properties?\n",
    "- if so we can use this to sort the ads and group by display_id\n",
    "- This could provide a fair baseline based soley on click-by-show popularity not taking into account the other data."
   ]
  },
  {
   "cell_type": "code",
   "execution_count": 1,
   "metadata": {
    "collapsed": false,
    "scrolled": true
   },
   "outputs": [
    {
     "name": "stdout",
     "output_type": "stream",
     "text": [
      "Populating the interactive namespace from numpy and matplotlib\n"
     ]
    }
   ],
   "source": [
    "import pandas as pd\n",
    "import numpy as np\n",
    "import matplotlib.pyplot as plt\n",
    "import matplotlib as mpl\n",
    "plt.style.use('ggplot')\n",
    "import collections\n",
    "import json\n",
    "%pylab inline"
   ]
  },
  {
   "cell_type": "code",
   "execution_count": 2,
   "metadata": {
    "collapsed": false
   },
   "outputs": [],
   "source": [
    "#train = pd.read_csv(\"data/clicks_train.csv\")\n",
    "temp_train = pd.read_csv(\"data_mini/clicks_train_mini.csv\")"
   ]
  },
  {
   "cell_type": "code",
   "execution_count": 3,
   "metadata": {
    "collapsed": false
   },
   "outputs": [
    {
     "name": "stdout",
     "output_type": "stream",
     "text": [
      "temp_train:  (49999, 3)\n",
      "Num of unique display_id:  9797\n",
      "Num of unique ad_id:  10740\n",
      "Click ratio: 19.592% of ads clicked.\n"
     ]
    },
    {
     "data": {
      "text/html": [
       "<div>\n",
       "<table border=\"1\" class=\"dataframe\">\n",
       "  <thead>\n",
       "    <tr style=\"text-align: right;\">\n",
       "      <th></th>\n",
       "      <th>display_id</th>\n",
       "      <th>ad_id</th>\n",
       "      <th>clicked</th>\n",
       "    </tr>\n",
       "  </thead>\n",
       "  <tbody>\n",
       "    <tr>\n",
       "      <th>0</th>\n",
       "      <td>1</td>\n",
       "      <td>42337</td>\n",
       "      <td>0</td>\n",
       "    </tr>\n",
       "    <tr>\n",
       "      <th>1</th>\n",
       "      <td>1</td>\n",
       "      <td>139684</td>\n",
       "      <td>0</td>\n",
       "    </tr>\n",
       "    <tr>\n",
       "      <th>2</th>\n",
       "      <td>1</td>\n",
       "      <td>144739</td>\n",
       "      <td>1</td>\n",
       "    </tr>\n",
       "    <tr>\n",
       "      <th>3</th>\n",
       "      <td>1</td>\n",
       "      <td>156824</td>\n",
       "      <td>0</td>\n",
       "    </tr>\n",
       "    <tr>\n",
       "      <th>4</th>\n",
       "      <td>1</td>\n",
       "      <td>279295</td>\n",
       "      <td>0</td>\n",
       "    </tr>\n",
       "  </tbody>\n",
       "</table>\n",
       "</div>"
      ],
      "text/plain": [
       "   display_id   ad_id  clicked\n",
       "0           1   42337        0\n",
       "1           1  139684        0\n",
       "2           1  144739        1\n",
       "3           1  156824        0\n",
       "4           1  279295        0"
      ]
     },
     "metadata": {},
     "output_type": "display_data"
    }
   ],
   "source": [
    "def df_info(df):\n",
    "    print 'temp_train: ', df.shape\n",
    "    print 'Num of unique display_id: ', len(df['display_id'].unique())\n",
    "    print 'Num of unique ad_id: ', len(df['ad_id'].unique())\n",
    "    print 'Click ratio: {}% of ads clicked.'.format(round(float(df['clicked'].value_counts()[1])/df.shape[0]*100,3))\n",
    "    display(df.head())\n",
    "\n",
    "df_info(temp_train)"
   ]
  },
  {
   "cell_type": "code",
   "execution_count": 4,
   "metadata": {
    "collapsed": false
   },
   "outputs": [
    {
     "data": {
      "text/plain": [
       "12"
      ]
     },
     "metadata": {},
     "output_type": "display_data"
    },
    {
     "data": {
      "text/plain": [
       "4"
      ]
     },
     "metadata": {},
     "output_type": "display_data"
    },
    {
     "data": {
      "text/plain": [
       "0.3333333333333333"
      ]
     },
     "execution_count": 4,
     "metadata": {},
     "output_type": "execute_result"
    }
   ],
   "source": [
    "temp_train_copy = temp_train.copy()\n",
    "# value = temp_train_copy.groupby('ad_id').count()\n",
    "# value\n",
    "\n",
    "display(temp_train_copy.loc[temp_train_copy['ad_id'] == 347571].shape[0])\n",
    "display(temp_train_copy.loc[temp_train_copy['ad_id'] == 347571].loc[temp_train_copy['clicked'] == 1].shape[0])\n",
    "4.0/12"
   ]
  },
  {
   "cell_type": "markdown",
   "metadata": {},
   "source": [
    "### Kyle: The line below completely replaces the for loop and executes in seconds, not hours."
   ]
  },
  {
   "cell_type": "code",
   "execution_count": 5,
   "metadata": {
    "collapsed": false
   },
   "outputs": [],
   "source": [
    "ad_count_dict = temp_train_copy.groupby(['ad_id', 'clicked']).count().to_dict()['display_id']"
   ]
  },
  {
   "cell_type": "code",
   "execution_count": 6,
   "metadata": {
    "collapsed": false,
    "scrolled": false
   },
   "outputs": [
    {
     "name": "stdout",
     "output_type": "stream",
     "text": [
      "Ad id #347571 was clicked 4 times and not clicked 8 times\n"
     ]
    }
   ],
   "source": [
    "ad_id = 347571\n",
    "print ('Ad id #{} was clicked {} times and not clicked {} times'.format(ad_id, \n",
    "                                                                        ad_count_dict[(ad_id,1)],\n",
    "                                                                        ad_count_dict[(ad_id,0)]))"
   ]
  },
  {
   "cell_type": "markdown",
   "metadata": {},
   "source": [
    "### Kyle: Note that we get the same result as the loop. The only caveat is that if an ad doesn't have data (e.g. it was never clicked or was always clicked, then it won't show up in the result). There's probably a parameter I can set to return zero counts. Will need to investigate more."
   ]
  },
  {
   "cell_type": "code",
   "execution_count": 7,
   "metadata": {
    "collapsed": false
   },
   "outputs": [],
   "source": [
    "# from timeit import default_timer as timer\n",
    "# # could add here a normalizer value to account for ads with very low and very high occurances.\n",
    "\n",
    "# # VERY SLOW... c'mon we can make this better.... took 20 sec\n",
    "\n",
    "# #gives me a dict where the key is the ad_id and the value is a tuple with information about its click ratio\n",
    "# unique_ads = temp_train['ad_id'].unique().tolist()\n",
    "# ad_count_dict = {}\n",
    "# i=0\n",
    "# ct = len(unique_ads)\n",
    "\n",
    "# start = timer()\n",
    "\n",
    "# for ad in unique_ads:\n",
    "# #     temp_tuple = () #3 elements for clicked, not clicked, and %\n",
    "    \n",
    "#     # KYLE: Next line just keeps the part of the table that we want\n",
    "#     # Maybe it is faster??\n",
    "#     temp = temp_train_copy.loc[temp_train_copy['ad_id'] == ad]\n",
    "    \n",
    "#     appeared = temp.shape[0]\n",
    "#     clicked = temp.loc[temp_train_copy['clicked'] == 1].shape[0]\n",
    "#     #not_clicked = temp.loc[temp_train_copy['clicked'] == 0].shape[0]\n",
    "#     percent_clicked = float(clicked)/appeared\n",
    "    \n",
    "#     temp_tuple = (percent_clicked, appeared, clicked, appeared-clicked)\n",
    "    \n",
    "    \n",
    "#     ad_count_dict[ad] = temp_tuple\n",
    "    \n",
    "#     if ((i % 100) == 0):\n",
    "#         elapsed = (timer() - start) / 3600.0\n",
    "#         rate = elapsed / (i+1)\n",
    "#         print('Ad #{} of {}, Time left = {:,.2f} hours'.format(i+1, ct, (ct - i)*rate))\n",
    "        \n",
    "#     i += 1\n",
    "    \n",
    "# ad_count_dict\n",
    "    "
   ]
  },
  {
   "cell_type": "code",
   "execution_count": 8,
   "metadata": {
    "collapsed": false,
    "scrolled": true
   },
   "outputs": [],
   "source": [
    "#gives me a dict where the key is the display_id and the value is a list of all the ad_ids associated with it\n",
    "\n",
    "display_list = temp_train['display_id'].unique().tolist()\n",
    "display_dict = {}\n",
    "for display in display_list:\n",
    "    ad_list = temp_train.loc[temp_train['display_id'] == display]['ad_id'].tolist()\n",
    "    \n",
    "    display_dict[display] = ad_list\n",
    "#display_dict"
   ]
  },
  {
   "cell_type": "code",
   "execution_count": 9,
   "metadata": {
    "collapsed": false
   },
   "outputs": [
    {
     "ename": "KeyError",
     "evalue": "42337",
     "output_type": "error",
     "traceback": [
      "\u001b[0;31m---------------------------------------------------------------------------\u001b[0m",
      "\u001b[0;31mKeyError\u001b[0m                                  Traceback (most recent call last)",
      "\u001b[0;32m<ipython-input-9-f32dd665c97a>\u001b[0m in \u001b[0;36m<module>\u001b[0;34m()\u001b[0m\n\u001b[1;32m      5\u001b[0m     \u001b[0mtemp_list\u001b[0m \u001b[0;34m=\u001b[0m \u001b[0;34m[\u001b[0m\u001b[0;34m]\u001b[0m\u001b[0;34m\u001b[0m\u001b[0m\n\u001b[1;32m      6\u001b[0m     \u001b[0;32mfor\u001b[0m \u001b[0me\u001b[0m \u001b[0;32min\u001b[0m \u001b[0mvalue\u001b[0m\u001b[0;34m:\u001b[0m\u001b[0;34m\u001b[0m\u001b[0m\n\u001b[0;32m----> 7\u001b[0;31m         \u001b[0mtemp_list\u001b[0m\u001b[0;34m.\u001b[0m\u001b[0mappend\u001b[0m\u001b[0;34m(\u001b[0m\u001b[0mad_count_dict\u001b[0m\u001b[0;34m[\u001b[0m\u001b[0me\u001b[0m\u001b[0;34m]\u001b[0m\u001b[0;34m[\u001b[0m\u001b[0;36m0\u001b[0m\u001b[0;34m]\u001b[0m\u001b[0;34m)\u001b[0m\u001b[0;34m\u001b[0m\u001b[0m\n\u001b[0m\u001b[1;32m      8\u001b[0m \u001b[0;34m\u001b[0m\u001b[0m\n\u001b[1;32m      9\u001b[0m     \u001b[0msorted_list\u001b[0m \u001b[0;34m=\u001b[0m \u001b[0;34m[\u001b[0m\u001b[0mx\u001b[0m \u001b[0;32mfor\u001b[0m \u001b[0;34m(\u001b[0m\u001b[0my\u001b[0m\u001b[0;34m,\u001b[0m\u001b[0mx\u001b[0m\u001b[0;34m)\u001b[0m \u001b[0;32min\u001b[0m \u001b[0msorted\u001b[0m\u001b[0;34m(\u001b[0m\u001b[0mzip\u001b[0m\u001b[0;34m(\u001b[0m\u001b[0mtemp_list\u001b[0m\u001b[0;34m,\u001b[0m \u001b[0mvalue\u001b[0m\u001b[0;34m)\u001b[0m\u001b[0;34m,\u001b[0m \u001b[0mreverse\u001b[0m\u001b[0;34m=\u001b[0m\u001b[0mTrue\u001b[0m\u001b[0;34m)\u001b[0m\u001b[0;34m]\u001b[0m\u001b[0;34m\u001b[0m\u001b[0m\n",
      "\u001b[0;31mKeyError\u001b[0m: 42337"
     ]
    }
   ],
   "source": [
    "# sorted lists of ad_id based on click probability binded to a key of display_id\n",
    "\n",
    "display_dict_sorted = {}\n",
    "for key, value in display_dict.iteritems():\n",
    "    temp_list = []\n",
    "    for e in value:\n",
    "        temp_list.append(ad_count_dict[e][0])\n",
    "    \n",
    "    sorted_list = [x for (y,x) in sorted(zip(temp_list, value), reverse=True)]\n",
    "    sorted_list = map(str, sorted_list) #turn whole list to string\n",
    "    \n",
    "    display_dict_sorted[key] = key, ' '.join(sorted_list) #strip out everything and join with ' '.\n",
    "\n",
    "display_dict_sorted"
   ]
  },
  {
   "cell_type": "code",
   "execution_count": null,
   "metadata": {
    "collapsed": false
   },
   "outputs": [],
   "source": [
    "submit_df = pd.DataFrame.from_dict(display_dict_sorted, orient='index')\n",
    "submit_df.columns = ['display_id', 'ad_id']\n",
    "submit_df.set_index(['display_id'], inplace=True)\n",
    "# display(submit_df.head())\n",
    "submit_df.to_csv('csv_submissions/prelim_model_v1.csv')\n"
   ]
  },
  {
   "cell_type": "code",
   "execution_count": null,
   "metadata": {
    "collapsed": true
   },
   "outputs": [],
   "source": []
  },
  {
   "cell_type": "markdown",
   "metadata": {},
   "source": [
    "### Train on full train file"
   ]
  },
  {
   "cell_type": "code",
   "execution_count": null,
   "metadata": {
    "collapsed": true
   },
   "outputs": [],
   "source": [
    "train = pd.read_csv(\"data/clicks_train.csv\")"
   ]
  },
  {
   "cell_type": "code",
   "execution_count": null,
   "metadata": {
    "collapsed": false,
    "scrolled": true
   },
   "outputs": [],
   "source": [
    "ad_count_dictNew = train.groupby(['ad_id', 'clicked']).count().to_dict()['display_id']\n"
   ]
  },
  {
   "cell_type": "code",
   "execution_count": null,
   "metadata": {
    "collapsed": false,
    "scrolled": true
   },
   "outputs": [],
   "source": [
    "# from timeit import default_timer as timer\n",
    "\n",
    "# unique_ads = train['ad_id'].unique().tolist()\n",
    "# ad_count_dict = {}\n",
    "# i = 0\n",
    "# ct = len(unique_ads)\n",
    "\n",
    "# start = timer()\n",
    "\n",
    "# for ad in unique_ads:\n",
    "# #     temp_tuple = () #3 elements for clicked, not clicked, and %\n",
    "    \n",
    "#     temp = train.loc[train['ad_id'] == ad]\n",
    "    \n",
    "#     appeared = temp.shape[0]\n",
    "    \n",
    "#     not_clicked = temp.groupby('clicked').count().values[0,0]\n",
    "    \n",
    "#     clicked = appeared - not_clicked\n",
    "    \n",
    "#     percent_clicked = float(clicked)/appeared\n",
    "    \n",
    "#     temp_tuple = (percent_clicked, appeared, clicked, not_clicked)\n",
    "    \n",
    "    \n",
    "#     ad_count_dict[ad] = temp_tuple\n",
    "    \n",
    "#     if ((i % 1000) == 0):\n",
    "#         elapsed = (timer() - start) / 3600.0\n",
    "#         rate = elapsed / (i+1)\n",
    "#         print('Ad #{} of {}, Time left = {:,.2f} hours'.format(i+1, ct, (ct - i)*rate))\n",
    "        \n",
    "#     i += 1\n",
    "    \n"
   ]
  },
  {
   "cell_type": "code",
   "execution_count": null,
   "metadata": {
    "collapsed": true
   },
   "outputs": [],
   "source": [
    "display_list = train['display_id'].unique().tolist()\n",
    "display_dict = {}\n",
    "for display in display_list:\n",
    "    ad_list = train.loc[train['display_id'] == display]['ad_id'].tolist()\n",
    "    \n",
    "    display_dict[display] = ad_list\n",
    "\n",
    "    \n",
    "# step 3\n",
    "    \n",
    "display_dict_sorted = {}\n",
    "for key, value in display_dict.iteritems():\n",
    "    temp_list = []\n",
    "    for e in value:\n",
    "        temp_list.append(ad_count_dict[e][0])\n",
    "    \n",
    "    sorted_list = [x for (y,x) in sorted(zip(temp_list, value), reverse=True)]\n",
    "    sorted_list = map(str, sorted_list) #turn whole list to string\n",
    "    \n",
    "    display_dict_sorted[key] = key, ' '.join(sorted_list) #strip out everything and join with ' '.\n",
    "\n",
    "\n",
    "    \n",
    "#step 4\n",
    "    \n",
    "submit_df = pd.DataFrame.from_dict(display_dict_sorted, orient='index')\n",
    "submit_df.columns = ['display_id', 'ad_id']\n",
    "submit_df.set_index(['display_id'], inplace=True)\n",
    "submit_df.to_csv('csv_submissions/prelim_model_v1.csv')"
   ]
  },
  {
   "cell_type": "code",
   "execution_count": null,
   "metadata": {
    "collapsed": true
   },
   "outputs": [],
   "source": []
  }
 ],
 "metadata": {
  "anaconda-cloud": {},
  "kernelspec": {
   "display_name": "Python [default]",
   "language": "python",
   "name": "python2"
  },
  "language_info": {
   "codemirror_mode": {
    "name": "ipython",
    "version": 2
   },
   "file_extension": ".py",
   "mimetype": "text/x-python",
   "name": "python",
   "nbconvert_exporter": "python",
   "pygments_lexer": "ipython2",
   "version": "2.7.12"
  }
 },
 "nbformat": 4,
 "nbformat_minor": 1
}
