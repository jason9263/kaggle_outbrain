{
 "cells": [
  {
   "cell_type": "markdown",
   "metadata": {},
   "source": [
    "### Preliminary submission looking at basic inter-likeness of clikcing an ad"
   ]
  },
  {
   "cell_type": "markdown",
   "metadata": {},
   "source": [
    "thought list:\n",
    "- how many times has an ad appeared?\n",
    "- how many times has an ad been clicked?\n",
    "- % of time the ad was clicked vs appeared\n",
    "- the more an ad appears the higher chance it has of being clicked (as a baseline truth, not thinking about locale, user diversity, etc)\n",
    "- can I generate a weight to rank each ad based on the above properties?\n",
    "- if so we can use this to sort the ads and group by display_id\n",
    "- This could provide a fair baseline based soley on click-by-show popularity not taking into account the other data."
   ]
  },
  {
   "cell_type": "code",
   "execution_count": 1,
   "metadata": {
    "collapsed": false,
    "scrolled": true
   },
   "outputs": [
    {
     "name": "stdout",
     "output_type": "stream",
     "text": [
      "Populating the interactive namespace from numpy and matplotlib\n"
     ]
    }
   ],
   "source": [
    "import pandas as pd\n",
    "import numpy as np\n",
    "import matplotlib.pyplot as plt\n",
    "import matplotlib as mpl\n",
    "plt.style.use('ggplot')\n",
    "import collections\n",
    "import json\n",
    "%pylab inline"
   ]
  },
  {
   "cell_type": "code",
   "execution_count": null,
   "metadata": {
    "collapsed": false
   },
   "outputs": [],
   "source": [
    "#train = pd.read_csv(\"data/clicks_train.csv\")\n",
    "temp_train = pd.read_csv(\"data_mini/clicks_train_mini.csv\")"
   ]
  },
  {
   "cell_type": "code",
   "execution_count": null,
   "metadata": {
    "collapsed": false
   },
   "outputs": [],
   "source": [
    "def df_info(df):\n",
    "    print 'temp_train: ', df.shape\n",
    "    print 'Num of unique display_id: ', len(df['display_id'].unique())\n",
    "    print 'Num of unique ad_id: ', len(df['ad_id'].unique())\n",
    "    print 'Click ratio: {}% of ads clicked.'.format(round(float(df['clicked'].value_counts()[1])/df.shape[0]*100,3))\n",
    "    display(df.head())\n",
    "\n",
    "df_info(temp_train)"
   ]
  },
  {
   "cell_type": "code",
   "execution_count": null,
   "metadata": {
    "collapsed": false
   },
   "outputs": [],
   "source": [
    "temp_train_copy = temp_train.copy()\n",
    "# value = temp_train_copy.groupby('ad_id').count()\n",
    "# value\n",
    "\n",
    "display(temp_train_copy.loc[temp_train_copy['ad_id'] == 347571].shape[0])\n",
    "display(temp_train_copy.loc[temp_train_copy['ad_id'] == 347571].loc[temp_train_copy['clicked'] == 1].shape[0])\n",
    "4.0/12"
   ]
  },
  {
   "cell_type": "code",
   "execution_count": null,
   "metadata": {
    "collapsed": true
   },
   "outputs": [],
   "source": [
    "# could add here a normalizer value to account for ads with very low and very high occurances.\n",
    "\n",
    "# VERY SLOW... c'mon we can make this better.... took 20 sec\n",
    "\n",
    "#gives me a dict where the key is the ad_id and the value is a tuple with information about its click ratio\n",
    "unique_ads = temp_train['ad_id'].unique().tolist()\n",
    "ad_count_dict = {}\n",
    "for ad in unique_ads:\n",
    "#     temp_tuple = () #3 elements for clicked, not clicked, and %\n",
    "    \n",
    "    # KYLE: Next line just keeps the part of the table that we want\n",
    "    # Maybe it is faster??\n",
    "    temp = temp_train_copy.loc[temp_train_copy['ad_id'] == ad]\n",
    "    \n",
    "    appeared = temp.shape[0]\n",
    "    clicked = temp.loc[temp_train_copy['clicked'] == 1].shape[0]\n",
    "    not_clicked = temp.loc[temp_train_copy['clicked'] == 0].shape[0]\n",
    "    percent_clicked = float(clicked)/appeared\n",
    "    \n",
    "    temp_tuple = (percent_clicked, appeared, clicked, not_clicked)\n",
    "    \n",
    "    \n",
    "    ad_count_dict[ad] = temp_tuple\n",
    "ad_count_dict\n",
    "    "
   ]
  },
  {
   "cell_type": "code",
   "execution_count": null,
   "metadata": {
    "collapsed": false,
    "scrolled": true
   },
   "outputs": [],
   "source": [
    "#gives me a dict where the key is the display_id and the value is a list of all the ad_ids associated with it\n",
    "\n",
    "display_list = temp_train['display_id'].unique().tolist()\n",
    "display_dict = {}\n",
    "for display in display_list:\n",
    "    ad_list = temp_train.loc[temp_train['display_id'] == display]['ad_id'].tolist()\n",
    "    \n",
    "    display_dict[display] = ad_list\n",
    "display_dict"
   ]
  },
  {
   "cell_type": "code",
   "execution_count": null,
   "metadata": {
    "collapsed": true
   },
   "outputs": [],
   "source": [
    "# sorted lists of ad_id based on click probability binded to a key of display_id\n",
    "\n",
    "display_dict_sorted = {}\n",
    "for key, value in display_dict.iteritems():\n",
    "    temp_list = []\n",
    "    for e in value:\n",
    "        temp_list.append(ad_count_dict[e][0])\n",
    "    \n",
    "    sorted_list = [x for (y,x) in sorted(zip(temp_list, value), reverse=True)]\n",
    "    sorted_list = map(str, sorted_list) #turn whole list to string\n",
    "    \n",
    "    display_dict_sorted[key] = key, ' '.join(sorted_list) #strip out everything and join with ' '.\n",
    "\n",
    "display_dict_sorted"
   ]
  },
  {
   "cell_type": "code",
   "execution_count": null,
   "metadata": {
    "collapsed": false
   },
   "outputs": [],
   "source": [
    "submit_df = pd.DataFrame.from_dict(display_dict_sorted, orient='index')\n",
    "submit_df.columns = ['display_id', 'ad_id']\n",
    "submit_df.set_index(['display_id'], inplace=True)\n",
    "# display(submit_df.head())\n",
    "submit_df.to_csv('csv_submissions/prelim_model_v1.csv')\n"
   ]
  },
  {
   "cell_type": "code",
   "execution_count": null,
   "metadata": {
    "collapsed": true
   },
   "outputs": [],
   "source": []
  },
  {
   "cell_type": "code",
   "execution_count": null,
   "metadata": {
    "collapsed": true
   },
   "outputs": [],
   "source": []
  },
  {
   "cell_type": "code",
   "execution_count": null,
   "metadata": {
    "collapsed": true
   },
   "outputs": [],
   "source": []
  },
  {
   "cell_type": "markdown",
   "metadata": {},
   "source": [
    "### Train on full train file"
   ]
  },
  {
   "cell_type": "code",
   "execution_count": 2,
   "metadata": {
    "collapsed": true
   },
   "outputs": [],
   "source": [
    "train = pd.read_csv(\"data/clicks_train.csv\")"
   ]
  },
  {
   "cell_type": "code",
   "execution_count": 21,
   "metadata": {
    "collapsed": false,
    "scrolled": true
   },
   "outputs": [
    {
     "name": "stdout",
     "output_type": "stream",
     "text": [
      "Ad #1 of 478950, Time left = 45.46 hours\n",
      "Ad #101 of 478950, Time left = 45.65 hours\n",
      "Ad #201 of 478950, Time left = 45.58 hours\n",
      "Ad #301 of 478950, Time left = 45.58 hours\n",
      "Ad #401 of 478950, Time left = 45.52 hours\n",
      "Ad #501 of 478950, Time left = 45.47 hours\n"
     ]
    },
    {
     "ename": "KeyboardInterrupt",
     "evalue": "",
     "output_type": "error",
     "traceback": [
      "\u001b[0;31m---------------------------------------------------------------------------\u001b[0m",
      "\u001b[0;31mKeyboardInterrupt\u001b[0m                         Traceback (most recent call last)",
      "\u001b[0;32m<ipython-input-21-9df98a916a57>\u001b[0m in \u001b[0;36m<module>\u001b[0;34m()\u001b[0m\n\u001b[1;32m     19\u001b[0m     \u001b[0mappeared\u001b[0m \u001b[0;34m=\u001b[0m \u001b[0mtrain\u001b[0m\u001b[0;34m.\u001b[0m\u001b[0mloc\u001b[0m\u001b[0;34m[\u001b[0m\u001b[0mtrain\u001b[0m\u001b[0;34m[\u001b[0m\u001b[0;34m'ad_id'\u001b[0m\u001b[0;34m]\u001b[0m \u001b[0;34m==\u001b[0m \u001b[0mad\u001b[0m\u001b[0;34m]\u001b[0m\u001b[0;34m.\u001b[0m\u001b[0mshape\u001b[0m\u001b[0;34m[\u001b[0m\u001b[0;36m0\u001b[0m\u001b[0;34m]\u001b[0m\u001b[0;34m\u001b[0m\u001b[0m\n\u001b[1;32m     20\u001b[0m     \u001b[0mclicked\u001b[0m \u001b[0;34m=\u001b[0m \u001b[0mtrain\u001b[0m\u001b[0;34m.\u001b[0m\u001b[0mloc\u001b[0m\u001b[0;34m[\u001b[0m\u001b[0mtrain\u001b[0m\u001b[0;34m[\u001b[0m\u001b[0;34m'ad_id'\u001b[0m\u001b[0;34m]\u001b[0m \u001b[0;34m==\u001b[0m \u001b[0mad\u001b[0m\u001b[0;34m]\u001b[0m\u001b[0;34m.\u001b[0m\u001b[0mloc\u001b[0m\u001b[0;34m[\u001b[0m\u001b[0mtrain\u001b[0m\u001b[0;34m[\u001b[0m\u001b[0;34m'clicked'\u001b[0m\u001b[0;34m]\u001b[0m \u001b[0;34m==\u001b[0m \u001b[0;36m1\u001b[0m\u001b[0;34m]\u001b[0m\u001b[0;34m.\u001b[0m\u001b[0mshape\u001b[0m\u001b[0;34m[\u001b[0m\u001b[0;36m0\u001b[0m\u001b[0;34m]\u001b[0m\u001b[0;34m\u001b[0m\u001b[0m\n\u001b[0;32m---> 21\u001b[0;31m     \u001b[0mnot_clicked\u001b[0m \u001b[0;34m=\u001b[0m \u001b[0mtrain\u001b[0m\u001b[0;34m.\u001b[0m\u001b[0mloc\u001b[0m\u001b[0;34m[\u001b[0m\u001b[0mtrain\u001b[0m\u001b[0;34m[\u001b[0m\u001b[0;34m'ad_id'\u001b[0m\u001b[0;34m]\u001b[0m \u001b[0;34m==\u001b[0m \u001b[0mad\u001b[0m\u001b[0;34m]\u001b[0m\u001b[0;34m.\u001b[0m\u001b[0mloc\u001b[0m\u001b[0;34m[\u001b[0m\u001b[0mtrain\u001b[0m\u001b[0;34m[\u001b[0m\u001b[0;34m'clicked'\u001b[0m\u001b[0;34m]\u001b[0m \u001b[0;34m==\u001b[0m \u001b[0;36m0\u001b[0m\u001b[0;34m]\u001b[0m\u001b[0;34m.\u001b[0m\u001b[0mshape\u001b[0m\u001b[0;34m[\u001b[0m\u001b[0;36m0\u001b[0m\u001b[0;34m]\u001b[0m\u001b[0;34m\u001b[0m\u001b[0m\n\u001b[0m\u001b[1;32m     22\u001b[0m \u001b[0;34m\u001b[0m\u001b[0m\n\u001b[1;32m     23\u001b[0m     \u001b[0mpercent_clicked\u001b[0m \u001b[0;34m=\u001b[0m \u001b[0mfloat\u001b[0m\u001b[0;34m(\u001b[0m\u001b[0mclicked\u001b[0m\u001b[0;34m)\u001b[0m\u001b[0;34m/\u001b[0m\u001b[0mappeared\u001b[0m\u001b[0;34m\u001b[0m\u001b[0m\n",
      "\u001b[0;32m/home/reina/anaconda2/lib/python2.7/site-packages/pandas/core/ops.pyc\u001b[0m in \u001b[0;36mwrapper\u001b[0;34m(self, other, axis)\u001b[0m\n\u001b[1;32m    761\u001b[0m                 \u001b[0mother\u001b[0m \u001b[0;34m=\u001b[0m \u001b[0mnp\u001b[0m\u001b[0;34m.\u001b[0m\u001b[0masarray\u001b[0m\u001b[0;34m(\u001b[0m\u001b[0mother\u001b[0m\u001b[0;34m)\u001b[0m\u001b[0;34m\u001b[0m\u001b[0m\n\u001b[1;32m    762\u001b[0m \u001b[0;34m\u001b[0m\u001b[0m\n\u001b[0;32m--> 763\u001b[0;31m             \u001b[0mres\u001b[0m \u001b[0;34m=\u001b[0m \u001b[0mna_op\u001b[0m\u001b[0;34m(\u001b[0m\u001b[0mvalues\u001b[0m\u001b[0;34m,\u001b[0m \u001b[0mother\u001b[0m\u001b[0;34m)\u001b[0m\u001b[0;34m\u001b[0m\u001b[0m\n\u001b[0m\u001b[1;32m    764\u001b[0m             \u001b[0;32mif\u001b[0m \u001b[0misscalar\u001b[0m\u001b[0;34m(\u001b[0m\u001b[0mres\u001b[0m\u001b[0;34m)\u001b[0m\u001b[0;34m:\u001b[0m\u001b[0;34m\u001b[0m\u001b[0m\n\u001b[1;32m    765\u001b[0m                 raise TypeError('Could not compare %s type with Series' %\n",
      "\u001b[0;32m/home/reina/anaconda2/lib/python2.7/site-packages/pandas/core/ops.pyc\u001b[0m in \u001b[0;36mna_op\u001b[0;34m(x, y)\u001b[0m\n\u001b[1;32m    714\u001b[0m \u001b[0;34m\u001b[0m\u001b[0m\n\u001b[1;32m    715\u001b[0m             \u001b[0;32mtry\u001b[0m\u001b[0;34m:\u001b[0m\u001b[0;34m\u001b[0m\u001b[0m\n\u001b[0;32m--> 716\u001b[0;31m                 \u001b[0mresult\u001b[0m \u001b[0;34m=\u001b[0m \u001b[0mgetattr\u001b[0m\u001b[0;34m(\u001b[0m\u001b[0mx\u001b[0m\u001b[0;34m,\u001b[0m \u001b[0mname\u001b[0m\u001b[0;34m)\u001b[0m\u001b[0;34m(\u001b[0m\u001b[0my\u001b[0m\u001b[0;34m)\u001b[0m\u001b[0;34m\u001b[0m\u001b[0m\n\u001b[0m\u001b[1;32m    717\u001b[0m                 \u001b[0;32mif\u001b[0m \u001b[0mresult\u001b[0m \u001b[0;32mis\u001b[0m \u001b[0mNotImplemented\u001b[0m\u001b[0;34m:\u001b[0m\u001b[0;34m\u001b[0m\u001b[0m\n\u001b[1;32m    718\u001b[0m                     \u001b[0;32mraise\u001b[0m \u001b[0mTypeError\u001b[0m\u001b[0;34m(\u001b[0m\u001b[0;34m\"invalid type comparison\"\u001b[0m\u001b[0;34m)\u001b[0m\u001b[0;34m\u001b[0m\u001b[0m\n",
      "\u001b[0;31mKeyboardInterrupt\u001b[0m: "
     ]
    }
   ],
   "source": [
    "from timeit import default_timer as timer\n",
    "\n",
    "unique_ads = train['ad_id'].unique().tolist()\n",
    "ad_count_dict = {}\n",
    "i = 0\n",
    "ct = len(unique_ads)\n",
    "\n",
    "start = timer()\n",
    "\n",
    "for ad in unique_ads:\n",
    "#     temp_tuple = () #3 elements for clicked, not clicked, and %\n",
    "    \n",
    "    temp = train.loc[train['ad_id'] == ad]\n",
    "    \n",
    "    appeared = temp.shape[0]\n",
    "    clicked = temp.loc[train['clicked'] == 1].shape[0]\n",
    "    not_clicked = temp.loc[train['clicked'] == 0].shape[0]\n",
    "    \n",
    "#     appeared = train.loc[train['ad_id'] == ad].shape[0]\n",
    "#     clicked = train.loc[train['ad_id'] == ad].loc[train['clicked'] == 1].shape[0]\n",
    "#     not_clicked = train.loc[train['ad_id'] == ad].loc[train['clicked'] == 0].shape[0]\n",
    "    \n",
    "    percent_clicked = float(clicked)/appeared\n",
    "    \n",
    "    temp_tuple = (percent_clicked, appeared, clicked, not_clicked)\n",
    "    \n",
    "    \n",
    "    ad_count_dict[ad] = temp_tuple\n",
    "    \n",
    "    if ((i % 1000) == 0):\n",
    "        elapsed = (timer() - start) / 3600.0\n",
    "        rate = elapsed / (i+1)\n",
    "        print('Ad #{} of {}, Time left = {:,.2f} hours'.format(i+1, ct, (ct - i)*rate))\n",
    "        \n",
    "    i += 1\n",
    "    \n"
   ]
  },
  {
   "cell_type": "code",
   "execution_count": null,
   "metadata": {
    "collapsed": true
   },
   "outputs": [],
   "source": [
    "display_list = train['display_id'].unique().tolist()\n",
    "display_dict = {}\n",
    "for display in display_list:\n",
    "    ad_list = train.loc[train['display_id'] == display]['ad_id'].tolist()\n",
    "    \n",
    "    display_dict[display] = ad_list\n",
    "\n",
    "    \n",
    "# step 3\n",
    "    \n",
    "display_dict_sorted = {}\n",
    "for key, value in display_dict.iteritems():\n",
    "    temp_list = []\n",
    "    for e in value:\n",
    "        temp_list.append(ad_count_dict[e][0])\n",
    "    \n",
    "    sorted_list = [x for (y,x) in sorted(zip(temp_list, value), reverse=True)]\n",
    "    sorted_list = map(str, sorted_list) #turn whole list to string\n",
    "    \n",
    "    display_dict_sorted[key] = key, ' '.join(sorted_list) #strip out everything and join with ' '.\n",
    "\n",
    "\n",
    "    \n",
    "#step 4\n",
    "    \n",
    "submit_df = pd.DataFrame.from_dict(display_dict_sorted, orient='index')\n",
    "submit_df.columns = ['display_id', 'ad_id']\n",
    "submit_df.set_index(['display_id'], inplace=True)\n",
    "submit_df.to_csv('csv_submissions/prelim_model_v1.csv')"
   ]
  },
  {
   "cell_type": "code",
   "execution_count": null,
   "metadata": {
    "collapsed": true
   },
   "outputs": [],
   "source": []
  },
  {
   "cell_type": "code",
   "execution_count": null,
   "metadata": {
    "collapsed": true
   },
   "outputs": [],
   "source": []
  }
 ],
 "metadata": {
  "anaconda-cloud": {},
  "kernelspec": {
   "display_name": "Python [default]",
   "language": "python",
   "name": "python2"
  },
  "language_info": {
   "codemirror_mode": {
    "name": "ipython",
    "version": 2
   },
   "file_extension": ".py",
   "mimetype": "text/x-python",
   "name": "python",
   "nbconvert_exporter": "python",
   "pygments_lexer": "ipython2",
   "version": "2.7.12"
  }
 },
 "nbformat": 4,
 "nbformat_minor": 1
}
