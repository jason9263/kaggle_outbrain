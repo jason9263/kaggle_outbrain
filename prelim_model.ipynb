{
 "cells": [
  {
   "cell_type": "markdown",
   "metadata": {},
   "source": [
    "### Preliminary submission looking at basic inter-likeness of clikcing an ad"
   ]
  },
  {
   "cell_type": "markdown",
   "metadata": {},
   "source": [
    "thought list:\n",
    "- how many times has an ad appeared?\n",
    "- how many times has an ad been clicked?\n",
    "- % of time the ad was clicked vs appeared\n",
    "- the more an ad appears the higher chance it has of being clicked (as a baseline truth, not thinking about locale, user diversity, etc)\n",
    "- can I generate a weight to rank each ad based on the above properties?\n",
    "- if so we can use this to sort the ads and group by display_id\n",
    "- This could provide a fair baseline based soley on click-by-show popularity not taking into account the other data."
   ]
  },
  {
   "cell_type": "code",
   "execution_count": 1,
   "metadata": {
    "collapsed": false,
    "scrolled": true
   },
   "outputs": [
    {
     "name": "stdout",
     "output_type": "stream",
     "text": [
      "Populating the interactive namespace from numpy and matplotlib\n"
     ]
    }
   ],
   "source": [
    "import pandas as pd\n",
    "import numpy as np\n",
    "import matplotlib.pyplot as plt\n",
    "import matplotlib as mpl\n",
    "plt.style.use('ggplot')\n",
    "import collections\n",
    "import json\n",
    "%pylab inline"
   ]
  },
  {
   "cell_type": "code",
   "execution_count": null,
   "metadata": {
    "collapsed": false
   },
   "outputs": [],
   "source": [
    "#train = pd.read_csv(\"data/clicks_train.csv\")\n",
    "temp_train = pd.read_csv(\"data_mini/clicks_train_mini.csv\")"
   ]
  },
  {
   "cell_type": "code",
   "execution_count": null,
   "metadata": {
    "collapsed": false
   },
   "outputs": [],
   "source": [
    "def df_info(df):\n",
    "    print 'temp_train: ', df.shape\n",
    "    print 'Num of unique display_id: ', len(df['display_id'].unique())\n",
    "    print 'Num of unique ad_id: ', len(df['ad_id'].unique())\n",
    "    print 'Click ratio: {}% of ads clicked.'.format(round(float(df['clicked'].value_counts()[1])/df.shape[0]*100,3))\n",
    "    display(df.head())\n",
    "\n",
    "df_info(temp_train)"
   ]
  },
  {
   "cell_type": "code",
   "execution_count": null,
   "metadata": {
    "collapsed": false
   },
   "outputs": [],
   "source": [
    "temp_train_copy = temp_train.copy()\n",
    "# value = temp_train_copy.groupby('ad_id').count()\n",
    "# value\n",
    "\n",
    "display(temp_train_copy.loc[temp_train_copy['ad_id'] == 347571].shape[0])\n",
    "display(temp_train_copy.loc[temp_train_copy['ad_id'] == 347571].loc[temp_train_copy['clicked'] == 1].shape[0])\n",
    "4.0/12"
   ]
  },
  {
   "cell_type": "code",
   "execution_count": null,
   "metadata": {
    "collapsed": true
   },
   "outputs": [],
   "source": [
    "# could add here a normalizer value to account for ads with very low and very high occurances.\n",
    "\n",
    "# VERY SLOW... c'mon we can make this better.... took 20 sec\n",
    "\n",
    "#gives me a dict where the key is the ad_id and the value is a tuple with information about its click ratio\n",
    "unique_ads = temp_train['ad_id'].unique().tolist()\n",
    "ad_count_dict = {}\n",
    "for ad in unique_ads:\n",
    "#     temp_tuple = () #3 elements for clicked, not clicked, and %\n",
    "    \n",
    "    # KYLE: Next line just keeps the part of the table that we want\n",
    "    # Maybe it is faster??\n",
    "    temp = temp_train_copy.loc[temp_train_copy['ad_id'] == ad]\n",
    "    \n",
    "    appeared = temp.shape[0]\n",
    "    clicked = temp.loc[temp_train_copy['clicked'] == 1].shape[0]\n",
    "    not_clicked = temp.loc[temp_train_copy['clicked'] == 0].shape[0]\n",
    "    percent_clicked = float(clicked)/appeared\n",
    "    \n",
    "    temp_tuple = (percent_clicked, appeared, clicked, not_clicked)\n",
    "    \n",
    "    \n",
    "    ad_count_dict[ad] = temp_tuple\n",
    "ad_count_dict\n",
    "    "
   ]
  },
  {
   "cell_type": "code",
   "execution_count": null,
   "metadata": {
    "collapsed": false,
    "scrolled": true
   },
   "outputs": [],
   "source": [
    "#gives me a dict where the key is the display_id and the value is a list of all the ad_ids associated with it\n",
    "\n",
    "display_list = temp_train['display_id'].unique().tolist()\n",
    "display_dict = {}\n",
    "for display in display_list:\n",
    "    ad_list = temp_train.loc[temp_train['display_id'] == display]['ad_id'].tolist()\n",
    "    \n",
    "    display_dict[display] = ad_list\n",
    "display_dict"
   ]
  },
  {
   "cell_type": "code",
   "execution_count": null,
   "metadata": {
    "collapsed": true
   },
   "outputs": [],
   "source": [
    "# sorted lists of ad_id based on click probability binded to a key of display_id\n",
    "\n",
    "display_dict_sorted = {}\n",
    "for key, value in display_dict.iteritems():\n",
    "    temp_list = []\n",
    "    for e in value:\n",
    "        temp_list.append(ad_count_dict[e][0])\n",
    "    \n",
    "    sorted_list = [x for (y,x) in sorted(zip(temp_list, value), reverse=True)]\n",
    "    sorted_list = map(str, sorted_list) #turn whole list to string\n",
    "    \n",
    "    display_dict_sorted[key] = key, ' '.join(sorted_list) #strip out everything and join with ' '.\n",
    "\n",
    "display_dict_sorted"
   ]
  },
  {
   "cell_type": "code",
   "execution_count": null,
   "metadata": {
    "collapsed": false
   },
   "outputs": [],
   "source": [
    "submit_df = pd.DataFrame.from_dict(display_dict_sorted, orient='index')\n",
    "submit_df.columns = ['display_id', 'ad_id']\n",
    "submit_df.set_index(['display_id'], inplace=True)\n",
    "# display(submit_df.head())\n",
    "submit_df.to_csv('csv_submissions/prelim_model_v1.csv')\n"
   ]
  },
  {
   "cell_type": "code",
   "execution_count": null,
   "metadata": {
    "collapsed": true
   },
   "outputs": [],
   "source": []
  },
  {
   "cell_type": "code",
   "execution_count": null,
   "metadata": {
    "collapsed": true
   },
   "outputs": [],
   "source": []
  },
  {
   "cell_type": "code",
   "execution_count": null,
   "metadata": {
    "collapsed": true
   },
   "outputs": [],
   "source": []
  },
  {
   "cell_type": "markdown",
   "metadata": {},
   "source": [
    "### Train on full train file"
   ]
  },
  {
   "cell_type": "code",
   "execution_count": 2,
   "metadata": {
    "collapsed": true
   },
   "outputs": [],
   "source": [
    "train = pd.read_csv(\"data/clicks_train.csv\")"
   ]
  },
  {
   "cell_type": "code",
   "execution_count": 59,
   "metadata": {
    "collapsed": false,
    "scrolled": true
   },
   "outputs": [],
   "source": [
    "temp_tuple = train.groupby(['ad_id', 'clicked']).count().to_dict()\n"
   ]
  },
  {
   "cell_type": "code",
   "execution_count": 58,
   "metadata": {
    "collapsed": false
   },
   "outputs": [
    {
     "ename": "SyntaxError",
     "evalue": "invalid syntax (<ipython-input-58-892f4784a433>, line 1)",
     "output_type": "error",
     "traceback": [
      "\u001b[0;36m  File \u001b[0;32m\"<ipython-input-58-892f4784a433>\"\u001b[0;36m, line \u001b[0;32m1\u001b[0m\n\u001b[0;31m    t1_dict{146773,1}\u001b[0m\n\u001b[0m           ^\u001b[0m\n\u001b[0;31mSyntaxError\u001b[0m\u001b[0;31m:\u001b[0m invalid syntax\n"
     ]
    }
   ],
   "source": [
    "t1_dict{146773,1}"
   ]
  },
  {
   "cell_type": "code",
   "execution_count": 40,
   "metadata": {
    "collapsed": false,
    "scrolled": true
   },
   "outputs": [
    {
     "name": "stdout",
     "output_type": "stream",
     "text": [
      "1970 1970 9807 9807\n",
      "Ad #1 of 478950, Time left = 26.24 hours\n",
      "199 199 1002 1002\n",
      "18462 18462 38465 38465\n",
      "1897 1897 56539 56539\n",
      "109 109 226 226\n",
      "4 4 30 30\n",
      "202 202 1123 1123\n",
      "0 0 1 1\n",
      "50 50 525 525\n",
      "316 316 564 564\n",
      "1202 1202 13773 13773\n",
      "916 916 2956 2956\n",
      "3282 3282 16806 16806\n",
      "145 145 554 554\n",
      "153 153 1052 1052\n",
      "312 312 7809 7809\n",
      "723 723 4496 4496\n",
      "6130 6130 22705 22705\n",
      "426 426 5655 5655\n",
      "187 187 1046 1046\n",
      "236 236 1382 1382\n",
      "111 111 409 409\n",
      "202 202 496 496\n",
      "282 282 1199 1199\n",
      "9 9 87 87\n",
      "10 10 110 110\n",
      "5943 5943 72562 72562\n",
      "2301 2301 18605 18605\n",
      "6718 6718 78834 78834\n",
      "3120 3120 8875 8875\n",
      "8477 8477 194682 194682\n",
      "11229 11229 33978 33978\n",
      "789 789 11434 11434\n",
      "380 380 2975 2975\n",
      "0 0 1 1\n",
      "329 329 10752 10752\n",
      "713 713 3135 3135\n",
      "6779 6779 23330 23330\n",
      "18 18 393 393\n",
      "2120 2120 10975 10975\n",
      "4147 4147 40470 40470\n",
      "1668 1668 16000 16000\n",
      "31074 31074 150245 150245\n",
      "46 46 152 152\n",
      "2039 2039 5938 5938\n",
      "5683 5683 16535 16535\n",
      "2707 2707 19615 19615\n",
      "10238 10238 53798 53798\n",
      "8484 8484 19572 19572\n",
      "2141 2141 11568 11568\n",
      "3281 3281 14285 14285\n",
      "46 46 98 98\n",
      "10 10 94 94\n",
      "1203 1203 7789 7789\n",
      "2036 2036 7815 7815\n",
      "42 42 2535 2535\n",
      "12324 12324 75891 75891\n",
      "389 389 2460 2460\n",
      "538 538 3723 3723\n",
      "3351 3351 3151 3151\n",
      "1766 1766 7496 7496\n",
      "1101 1101 4927 4927\n",
      "8036 8036 120571 120571\n",
      "1021 1021 2183 2183\n",
      "17876 17876 11705 11705\n",
      "1681 1681 5003 5003\n",
      "0 0 5 5\n",
      "5162 5162 9919 9919\n",
      "8828 8828 51224 51224\n",
      "7417 7417 10137 10137\n",
      "0 0 2 2\n",
      "2 2 10 10\n",
      "0 0 16 16\n",
      "226 226 6402 6402\n",
      "7544 7544 7358 7358\n",
      "2575 2575 8938 8938\n",
      "1231 1231 22069 22069\n",
      "1049 1049 4220 4220\n",
      "329 329 3569 3569\n",
      "1551 1551 12311 12311\n",
      "1859 1859 2040 2040\n",
      "14798 14798 8223 8223\n",
      "2942 2942 3498 3498\n",
      "2875 2875 4782 4782\n",
      "1028 1028 3819 3819\n",
      "10 10 53 53\n",
      "966 966 1060 1060\n",
      "427 427 5219 5219\n",
      "1861 1861 7482 7482\n",
      "284 284 1766 1766\n",
      "53 53 624 624\n",
      "380 380 2467 2467\n",
      "578 578 1653 1653\n",
      "211 211 973 973\n",
      "246 246 1315 1315\n",
      "69 69 333 333\n",
      "81 81 482 482\n",
      "27 27 273 273\n",
      "5 5 143 143\n",
      "21485 21485 65250 65250\n",
      "12353 12353 53576 53576\n",
      "1860 1860 1582 1582\n",
      "2840 2840 11073 11073\n",
      "5758 5758 12540 12540\n",
      "43 43 349 349\n",
      "501 501 1394 1394\n",
      "2071 2071 4092 4092\n",
      "527 527 5331 5331\n",
      "1387 1387 12262 12262\n",
      "2047 2047 10790 10790\n",
      "222 222 1271 1271\n",
      "3849 3849 2812 2812\n",
      "22 22 132 132\n",
      "5448 5448 18139 18139\n",
      "27096 27096 26219 26219\n",
      "12016 12016 48557 48557\n",
      "7181 7181 21191 21191\n",
      "2585 2585 8845 8845\n",
      "2101 2101 14726 14726\n",
      "3057 3057 34030 34030\n",
      "48 48 179 179\n",
      "1965 1965 14297 14297\n",
      "2159 2159 14343 14343\n",
      "16187 16187 22245 22245\n",
      "1219 1219 2631 2631\n",
      "7384 7384 5761 5761\n",
      "679 679 15369 15369\n",
      "1355 1355 9828 9828\n",
      "6 6 33 33\n",
      "573 573 1727 1727\n",
      "6042 6042 9749 9749\n",
      "1516 1516 4669 4669\n",
      "198 198 1079 1079\n",
      "18 18 117 117\n",
      "1538 1538 11757 11757\n",
      "1799 1799 14296 14296\n",
      "249 249 1182 1182\n",
      "86 86 767 767\n",
      "203 203 1047 1047\n",
      "382 382 1652 1652\n",
      "1537 1537 9196 9196\n"
     ]
    },
    {
     "ename": "KeyboardInterrupt",
     "evalue": "",
     "output_type": "error",
     "traceback": [
      "\u001b[0;31m---------------------------------------------------------------------------\u001b[0m",
      "\u001b[0;31mKeyboardInterrupt\u001b[0m                         Traceback (most recent call last)",
      "\u001b[0;32m<ipython-input-40-c7562c95f62c>\u001b[0m in \u001b[0;36m<module>\u001b[0;34m()\u001b[0m\n\u001b[1;32m     19\u001b[0m     \u001b[0mclicked\u001b[0m \u001b[0;34m=\u001b[0m \u001b[0mappeared\u001b[0m \u001b[0;34m-\u001b[0m \u001b[0mnot_clicked\u001b[0m\u001b[0;34m\u001b[0m\u001b[0m\n\u001b[1;32m     20\u001b[0m \u001b[0;34m\u001b[0m\u001b[0m\n\u001b[0;32m---> 21\u001b[0;31m     \u001b[0mclickedo\u001b[0m \u001b[0;34m=\u001b[0m \u001b[0mtemp\u001b[0m\u001b[0;34m.\u001b[0m\u001b[0mloc\u001b[0m\u001b[0;34m[\u001b[0m\u001b[0mtrain\u001b[0m\u001b[0;34m[\u001b[0m\u001b[0;34m'clicked'\u001b[0m\u001b[0;34m]\u001b[0m \u001b[0;34m==\u001b[0m \u001b[0;36m1\u001b[0m\u001b[0;34m]\u001b[0m\u001b[0;34m.\u001b[0m\u001b[0mshape\u001b[0m\u001b[0;34m[\u001b[0m\u001b[0;36m0\u001b[0m\u001b[0;34m]\u001b[0m\u001b[0;34m\u001b[0m\u001b[0m\n\u001b[0m\u001b[1;32m     22\u001b[0m \u001b[0;34m\u001b[0m\u001b[0m\n\u001b[1;32m     23\u001b[0m     \u001b[0mnot_clickedo\u001b[0m \u001b[0;34m=\u001b[0m \u001b[0mtemp\u001b[0m\u001b[0;34m.\u001b[0m\u001b[0mloc\u001b[0m\u001b[0;34m[\u001b[0m\u001b[0mtrain\u001b[0m\u001b[0;34m[\u001b[0m\u001b[0;34m'clicked'\u001b[0m\u001b[0;34m]\u001b[0m \u001b[0;34m==\u001b[0m \u001b[0;36m0\u001b[0m\u001b[0;34m]\u001b[0m\u001b[0;34m.\u001b[0m\u001b[0mshape\u001b[0m\u001b[0;34m[\u001b[0m\u001b[0;36m0\u001b[0m\u001b[0;34m]\u001b[0m\u001b[0;34m\u001b[0m\u001b[0m\n",
      "\u001b[0;32m/home/reina/anaconda2/lib/python2.7/site-packages/pandas/core/ops.pyc\u001b[0m in \u001b[0;36mwrapper\u001b[0;34m(self, other, axis)\u001b[0m\n\u001b[1;32m    761\u001b[0m                 \u001b[0mother\u001b[0m \u001b[0;34m=\u001b[0m \u001b[0mnp\u001b[0m\u001b[0;34m.\u001b[0m\u001b[0masarray\u001b[0m\u001b[0;34m(\u001b[0m\u001b[0mother\u001b[0m\u001b[0;34m)\u001b[0m\u001b[0;34m\u001b[0m\u001b[0m\n\u001b[1;32m    762\u001b[0m \u001b[0;34m\u001b[0m\u001b[0m\n\u001b[0;32m--> 763\u001b[0;31m             \u001b[0mres\u001b[0m \u001b[0;34m=\u001b[0m \u001b[0mna_op\u001b[0m\u001b[0;34m(\u001b[0m\u001b[0mvalues\u001b[0m\u001b[0;34m,\u001b[0m \u001b[0mother\u001b[0m\u001b[0;34m)\u001b[0m\u001b[0;34m\u001b[0m\u001b[0m\n\u001b[0m\u001b[1;32m    764\u001b[0m             \u001b[0;32mif\u001b[0m \u001b[0misscalar\u001b[0m\u001b[0;34m(\u001b[0m\u001b[0mres\u001b[0m\u001b[0;34m)\u001b[0m\u001b[0;34m:\u001b[0m\u001b[0;34m\u001b[0m\u001b[0m\n\u001b[1;32m    765\u001b[0m                 raise TypeError('Could not compare %s type with Series' %\n",
      "\u001b[0;32m/home/reina/anaconda2/lib/python2.7/site-packages/pandas/core/ops.pyc\u001b[0m in \u001b[0;36mna_op\u001b[0;34m(x, y)\u001b[0m\n\u001b[1;32m    714\u001b[0m \u001b[0;34m\u001b[0m\u001b[0m\n\u001b[1;32m    715\u001b[0m             \u001b[0;32mtry\u001b[0m\u001b[0;34m:\u001b[0m\u001b[0;34m\u001b[0m\u001b[0m\n\u001b[0;32m--> 716\u001b[0;31m                 \u001b[0mresult\u001b[0m \u001b[0;34m=\u001b[0m \u001b[0mgetattr\u001b[0m\u001b[0;34m(\u001b[0m\u001b[0mx\u001b[0m\u001b[0;34m,\u001b[0m \u001b[0mname\u001b[0m\u001b[0;34m)\u001b[0m\u001b[0;34m(\u001b[0m\u001b[0my\u001b[0m\u001b[0;34m)\u001b[0m\u001b[0;34m\u001b[0m\u001b[0m\n\u001b[0m\u001b[1;32m    717\u001b[0m                 \u001b[0;32mif\u001b[0m \u001b[0mresult\u001b[0m \u001b[0;32mis\u001b[0m \u001b[0mNotImplemented\u001b[0m\u001b[0;34m:\u001b[0m\u001b[0;34m\u001b[0m\u001b[0m\n\u001b[1;32m    718\u001b[0m                     \u001b[0;32mraise\u001b[0m \u001b[0mTypeError\u001b[0m\u001b[0;34m(\u001b[0m\u001b[0;34m\"invalid type comparison\"\u001b[0m\u001b[0;34m)\u001b[0m\u001b[0;34m\u001b[0m\u001b[0m\n",
      "\u001b[0;31mKeyboardInterrupt\u001b[0m: "
     ]
    }
   ],
   "source": [
    "from timeit import default_timer as timer\n",
    "\n",
    "unique_ads = train['ad_id'].unique().tolist()\n",
    "ad_count_dict = {}\n",
    "i = 0\n",
    "ct = len(unique_ads)\n",
    "\n",
    "start = timer()\n",
    "\n",
    "for ad in unique_ads:\n",
    "#     temp_tuple = () #3 elements for clicked, not clicked, and %\n",
    "    \n",
    "    temp = train.loc[train['ad_id'] == ad]\n",
    "    \n",
    "    appeared = temp.shape[0]\n",
    "    \n",
    "    not_clicked = temp.groupby('clicked').count().values[0,0]\n",
    "    \n",
    "    clicked = appeared - not_clicked\n",
    "    \n",
    "    percent_clicked = float(clicked)/appeared\n",
    "    \n",
    "    temp_tuple = (percent_clicked, appeared, clicked, not_clicked)\n",
    "    \n",
    "    \n",
    "    ad_count_dict[ad] = temp_tuple\n",
    "    \n",
    "    if ((i % 1000) == 0):\n",
    "        elapsed = (timer() - start) / 3600.0\n",
    "        rate = elapsed / (i+1)\n",
    "        print('Ad #{} of {}, Time left = {:,.2f} hours'.format(i+1, ct, (ct - i)*rate))\n",
    "        \n",
    "    i += 1\n",
    "    \n"
   ]
  },
  {
   "cell_type": "code",
   "execution_count": null,
   "metadata": {
    "collapsed": true
   },
   "outputs": [],
   "source": [
    "display_list = train['display_id'].unique().tolist()\n",
    "display_dict = {}\n",
    "for display in display_list:\n",
    "    ad_list = train.loc[train['display_id'] == display]['ad_id'].tolist()\n",
    "    \n",
    "    display_dict[display] = ad_list\n",
    "\n",
    "    \n",
    "# step 3\n",
    "    \n",
    "display_dict_sorted = {}\n",
    "for key, value in display_dict.iteritems():\n",
    "    temp_list = []\n",
    "    for e in value:\n",
    "        temp_list.append(ad_count_dict[e][0])\n",
    "    \n",
    "    sorted_list = [x for (y,x) in sorted(zip(temp_list, value), reverse=True)]\n",
    "    sorted_list = map(str, sorted_list) #turn whole list to string\n",
    "    \n",
    "    display_dict_sorted[key] = key, ' '.join(sorted_list) #strip out everything and join with ' '.\n",
    "\n",
    "\n",
    "    \n",
    "#step 4\n",
    "    \n",
    "submit_df = pd.DataFrame.from_dict(display_dict_sorted, orient='index')\n",
    "submit_df.columns = ['display_id', 'ad_id']\n",
    "submit_df.set_index(['display_id'], inplace=True)\n",
    "submit_df.to_csv('csv_submissions/prelim_model_v1.csv')"
   ]
  },
  {
   "cell_type": "code",
   "execution_count": null,
   "metadata": {
    "collapsed": true
   },
   "outputs": [],
   "source": []
  },
  {
   "cell_type": "code",
   "execution_count": null,
   "metadata": {
    "collapsed": true
   },
   "outputs": [],
   "source": []
  }
 ],
 "metadata": {
  "anaconda-cloud": {},
  "kernelspec": {
   "display_name": "Python [default]",
   "language": "python",
   "name": "python2"
  },
  "language_info": {
   "codemirror_mode": {
    "name": "ipython",
    "version": 2
   },
   "file_extension": ".py",
   "mimetype": "text/x-python",
   "name": "python",
   "nbconvert_exporter": "python",
   "pygments_lexer": "ipython2",
   "version": "2.7.12"
  }
 },
 "nbformat": 4,
 "nbformat_minor": 1
}
