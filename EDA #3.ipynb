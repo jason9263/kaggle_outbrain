{
 "cells": [
  {
   "cell_type": "markdown",
   "metadata": {},
   "source": [
    "# Looking at Promoted Content file"
   ]
  },
  {
   "cell_type": "code",
   "execution_count": 1,
   "metadata": {
    "collapsed": false
   },
   "outputs": [
    {
     "name": "stdout",
     "output_type": "stream",
     "text": [
      "Populating the interactive namespace from numpy and matplotlib\n"
     ]
    }
   ],
   "source": [
    "import pandas as pd\n",
    "import numpy as np\n",
    "import matplotlib.pyplot as plt\n",
    "import matplotlib as mpl\n",
    "plt.style.use('ggplot')\n",
    "import collections\n",
    "import json\n",
    "from IPython.display import display, HTML\n",
    "from collections import defaultdict\n",
    "%pylab inline"
   ]
  },
  {
   "cell_type": "code",
   "execution_count": 2,
   "metadata": {
    "collapsed": false
   },
   "outputs": [
    {
     "name": "stdout",
     "output_type": "stream",
     "text": [
      "CPU times: user 310 ms, sys: 39.7 ms, total: 350 ms\n",
      "Wall time: 359 ms\n"
     ]
    }
   ],
   "source": [
    "%%time\n",
    "promoted_content = pd.read_csv('data/promoted_content.csv')"
   ]
  },
  {
   "cell_type": "code",
   "execution_count": 3,
   "metadata": {
    "collapsed": true
   },
   "outputs": [],
   "source": [
    "df = promoted_content.copy()"
   ]
  },
  {
   "cell_type": "code",
   "execution_count": 4,
   "metadata": {
    "collapsed": false
   },
   "outputs": [
    {
     "name": "stdout",
     "output_type": "stream",
     "text": [
      "There are 559583 rows and 4 features in the dataframe.\n"
     ]
    }
   ],
   "source": [
    "print 'There are {} rows and {} features in the dataframe.' .format(df.shape[0], df.shape[1])"
   ]
  },
  {
   "cell_type": "code",
   "execution_count": 5,
   "metadata": {
    "collapsed": false
   },
   "outputs": [
    {
     "name": "stdout",
     "output_type": "stream",
     "text": [
      "Head:\n"
     ]
    },
    {
     "data": {
      "text/html": [
       "<div>\n",
       "<table border=\"1\" class=\"dataframe\">\n",
       "  <thead>\n",
       "    <tr style=\"text-align: right;\">\n",
       "      <th></th>\n",
       "      <th>ad_id</th>\n",
       "      <th>document_id</th>\n",
       "      <th>campaign_id</th>\n",
       "      <th>advertiser_id</th>\n",
       "    </tr>\n",
       "  </thead>\n",
       "  <tbody>\n",
       "    <tr>\n",
       "      <th>0</th>\n",
       "      <td>1</td>\n",
       "      <td>6614</td>\n",
       "      <td>1</td>\n",
       "      <td>7</td>\n",
       "    </tr>\n",
       "    <tr>\n",
       "      <th>1</th>\n",
       "      <td>2</td>\n",
       "      <td>471467</td>\n",
       "      <td>2</td>\n",
       "      <td>7</td>\n",
       "    </tr>\n",
       "    <tr>\n",
       "      <th>2</th>\n",
       "      <td>3</td>\n",
       "      <td>7692</td>\n",
       "      <td>3</td>\n",
       "      <td>7</td>\n",
       "    </tr>\n",
       "    <tr>\n",
       "      <th>3</th>\n",
       "      <td>4</td>\n",
       "      <td>471471</td>\n",
       "      <td>2</td>\n",
       "      <td>7</td>\n",
       "    </tr>\n",
       "    <tr>\n",
       "      <th>4</th>\n",
       "      <td>5</td>\n",
       "      <td>471472</td>\n",
       "      <td>2</td>\n",
       "      <td>7</td>\n",
       "    </tr>\n",
       "  </tbody>\n",
       "</table>\n",
       "</div>"
      ],
      "text/plain": [
       "   ad_id  document_id  campaign_id  advertiser_id\n",
       "0      1         6614            1              7\n",
       "1      2       471467            2              7\n",
       "2      3         7692            3              7\n",
       "3      4       471471            2              7\n",
       "4      5       471472            2              7"
      ]
     },
     "metadata": {},
     "output_type": "display_data"
    },
    {
     "name": "stdout",
     "output_type": "stream",
     "text": [
      "Tail:\n"
     ]
    },
    {
     "data": {
      "text/html": [
       "<div>\n",
       "<table border=\"1\" class=\"dataframe\">\n",
       "  <thead>\n",
       "    <tr style=\"text-align: right;\">\n",
       "      <th></th>\n",
       "      <th>ad_id</th>\n",
       "      <th>document_id</th>\n",
       "      <th>campaign_id</th>\n",
       "      <th>advertiser_id</th>\n",
       "    </tr>\n",
       "  </thead>\n",
       "  <tbody>\n",
       "    <tr>\n",
       "      <th>559578</th>\n",
       "      <td>572968</td>\n",
       "      <td>1375496</td>\n",
       "      <td>18617</td>\n",
       "      <td>3223</td>\n",
       "    </tr>\n",
       "    <tr>\n",
       "      <th>559579</th>\n",
       "      <td>573016</td>\n",
       "      <td>1051466</td>\n",
       "      <td>18617</td>\n",
       "      <td>3223</td>\n",
       "    </tr>\n",
       "    <tr>\n",
       "      <th>559580</th>\n",
       "      <td>573081</td>\n",
       "      <td>497486</td>\n",
       "      <td>18617</td>\n",
       "      <td>3223</td>\n",
       "    </tr>\n",
       "    <tr>\n",
       "      <th>559581</th>\n",
       "      <td>573094</td>\n",
       "      <td>2868067</td>\n",
       "      <td>18906</td>\n",
       "      <td>283</td>\n",
       "    </tr>\n",
       "    <tr>\n",
       "      <th>559582</th>\n",
       "      <td>573098</td>\n",
       "      <td>2790678</td>\n",
       "      <td>13933</td>\n",
       "      <td>16</td>\n",
       "    </tr>\n",
       "  </tbody>\n",
       "</table>\n",
       "</div>"
      ],
      "text/plain": [
       "         ad_id  document_id  campaign_id  advertiser_id\n",
       "559578  572968      1375496        18617           3223\n",
       "559579  573016      1051466        18617           3223\n",
       "559580  573081       497486        18617           3223\n",
       "559581  573094      2868067        18906            283\n",
       "559582  573098      2790678        13933             16"
      ]
     },
     "metadata": {},
     "output_type": "display_data"
    }
   ],
   "source": [
    "print 'Head:'\n",
    "display(df.head(5))\n",
    "print 'Tail:'\n",
    "display(df.tail(5))"
   ]
  },
  {
   "cell_type": "markdown",
   "metadata": {},
   "source": [
    "### Some Summary Stats"
   ]
  },
  {
   "cell_type": "code",
   "execution_count": 10,
   "metadata": {
    "collapsed": false,
    "scrolled": true
   },
   "outputs": [
    {
     "name": "stdout",
     "output_type": "stream",
     "text": [
      "Unique advertisers: 4385      \n",
      "Unique campaigns: 34675      \n",
      "Unique documents: 185709      \n",
      "Unique Ads: 559583\n"
     ]
    }
   ],
   "source": [
    "advertiser_count = df['advertiser_id'].unique().size #size attribute of np.array\n",
    "campaign_count = df['campaign_id'].unique().size\n",
    "document_count = df['document_id'].unique().size\n",
    "ad_count = df['ad_id'].unique().size\n",
    "\n",
    "print 'Unique advertisers: {}\\\n",
    "      \\nUnique campaigns: {}\\\n",
    "      \\nUnique documents: {}\\\n",
    "      \\nUnique Ads: {}'.format(advertiser_count, campaign_count, document_count, ad_count)"
   ]
  },
  {
   "cell_type": "code",
   "execution_count": 17,
   "metadata": {
    "collapsed": false
   },
   "outputs": [
    {
     "data": {
      "text/plain": [
       "array([     1,      2,      3, ..., 573081, 573094, 573098])"
      ]
     },
     "execution_count": 17,
     "metadata": {},
     "output_type": "execute_result"
    }
   ],
   "source": [
    "df['ad_id'].unique()"
   ]
  },
  {
   "cell_type": "code",
   "execution_count": 7,
   "metadata": {
    "collapsed": false,
    "scrolled": true
   },
   "outputs": [
    {
     "data": {
      "text/plain": [
       "266     16529\n",
       "1635    15450\n",
       "3829    14844\n",
       "1634    10552\n",
       "3922    10046\n",
       "2656     9217\n",
       "2874     9024\n",
       "1206     8774\n",
       "2754     7971\n",
       "2848     7814\n",
       "2110     6650\n",
       "2556     6436\n",
       "185      6391\n",
       "201      6369\n",
       "2030     6221\n",
       "283      5592\n",
       "2057     5078\n",
       "415      4985\n",
       "1510     4728\n",
       "1378     4709\n",
       "2804     4605\n",
       "1352     4163\n",
       "1637     3935\n",
       "1347     3930\n",
       "447      3926\n",
       "4156     3597\n",
       "1650     3308\n",
       "752      3204\n",
       "580      3148\n",
       "2655     3071\n",
       "        ...  \n",
       "29       1560\n",
       "1017     1534\n",
       "1531     1514\n",
       "3799     1495\n",
       "83       1493\n",
       "2616     1487\n",
       "1055     1413\n",
       "28       1376\n",
       "1555     1353\n",
       "2090     1352\n",
       "239      1325\n",
       "1636     1321\n",
       "545      1314\n",
       "1809     1307\n",
       "2557     1272\n",
       "551      1258\n",
       "1554     1251\n",
       "2091     1250\n",
       "1367     1249\n",
       "505      1247\n",
       "407      1245\n",
       "409      1245\n",
       "3220     1241\n",
       "94       1225\n",
       "53       1215\n",
       "140      1211\n",
       "1684     1210\n",
       "3410     1200\n",
       "1973     1188\n",
       "901      1187\n",
       "Name: advertiser_id, dtype: int64"
      ]
     },
     "execution_count": 7,
     "metadata": {},
     "output_type": "execute_result"
    }
   ],
   "source": [
    "biggest_advertisers = df['advertiser_id'].value_counts().iloc[0:100]\n",
    "biggest_advertisers"
   ]
  },
  {
   "cell_type": "code",
   "execution_count": null,
   "metadata": {
    "collapsed": true
   },
   "outputs": [],
   "source": []
  }
 ],
 "metadata": {
  "kernelspec": {
   "display_name": "Python [default]",
   "language": "python",
   "name": "python2"
  },
  "language_info": {
   "codemirror_mode": {
    "name": "ipython",
    "version": 2
   },
   "file_extension": ".py",
   "mimetype": "text/x-python",
   "name": "python",
   "nbconvert_exporter": "python",
   "pygments_lexer": "ipython2",
   "version": "2.7.12"
  }
 },
 "nbformat": 4,
 "nbformat_minor": 1
}
