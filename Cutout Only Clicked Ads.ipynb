{
 "cells": [
  {
   "cell_type": "code",
   "execution_count": 1,
   "metadata": {
    "collapsed": true
   },
   "outputs": [],
   "source": [
    "import pandas as pd\n",
    "import numpy as np\n",
    "\n",
    "%matplotlib inline"
   ]
  },
  {
   "cell_type": "code",
   "execution_count": 2,
   "metadata": {
    "collapsed": true
   },
   "outputs": [],
   "source": [
    "dataDir = \"data/\"  # Directory where our data is stored"
   ]
  },
  {
   "cell_type": "code",
   "execution_count": 3,
   "metadata": {
    "collapsed": false
   },
   "outputs": [],
   "source": [
    "dtypes = {'display_id' : np.int32, 'ad_id': np.int32, 'clicked': np.int8}\n",
    "dfTrain = pd.read_csv(dataDir + \"clicks_train.csv\", dtype=dtypes)"
   ]
  },
  {
   "cell_type": "code",
   "execution_count": 4,
   "metadata": {
    "collapsed": false
   },
   "outputs": [
    {
     "data": {
      "text/html": [
       "<div>\n",
       "<table border=\"1\" class=\"dataframe\">\n",
       "  <thead>\n",
       "    <tr style=\"text-align: right;\">\n",
       "      <th></th>\n",
       "      <th>display_id</th>\n",
       "      <th>ad_id</th>\n",
       "      <th>clicked</th>\n",
       "    </tr>\n",
       "  </thead>\n",
       "  <tbody>\n",
       "    <tr>\n",
       "      <th>0</th>\n",
       "      <td>1</td>\n",
       "      <td>42337</td>\n",
       "      <td>0</td>\n",
       "    </tr>\n",
       "    <tr>\n",
       "      <th>1</th>\n",
       "      <td>1</td>\n",
       "      <td>139684</td>\n",
       "      <td>0</td>\n",
       "    </tr>\n",
       "    <tr>\n",
       "      <th>2</th>\n",
       "      <td>1</td>\n",
       "      <td>144739</td>\n",
       "      <td>1</td>\n",
       "    </tr>\n",
       "    <tr>\n",
       "      <th>3</th>\n",
       "      <td>1</td>\n",
       "      <td>156824</td>\n",
       "      <td>0</td>\n",
       "    </tr>\n",
       "    <tr>\n",
       "      <th>4</th>\n",
       "      <td>1</td>\n",
       "      <td>279295</td>\n",
       "      <td>0</td>\n",
       "    </tr>\n",
       "  </tbody>\n",
       "</table>\n",
       "</div>"
      ],
      "text/plain": [
       "   display_id   ad_id  clicked\n",
       "0           1   42337        0\n",
       "1           1  139684        0\n",
       "2           1  144739        1\n",
       "3           1  156824        0\n",
       "4           1  279295        0"
      ]
     },
     "execution_count": 4,
     "metadata": {},
     "output_type": "execute_result"
    }
   ],
   "source": [
    "dfTrain.head()"
   ]
  },
  {
   "cell_type": "code",
   "execution_count": 5,
   "metadata": {
    "collapsed": false
   },
   "outputs": [
    {
     "name": "stdout",
     "output_type": "stream",
     "text": [
      "<class 'pandas.core.frame.DataFrame'>\n",
      "RangeIndex: 87141731 entries, 0 to 87141730\n",
      "Data columns (total 3 columns):\n",
      "display_id    int32\n",
      "ad_id         int32\n",
      "clicked       int8\n",
      "dtypes: int32(2), int8(1)\n",
      "memory usage: 747.9 MB\n"
     ]
    }
   ],
   "source": [
    "dfTrain.info()"
   ]
  },
  {
   "cell_type": "code",
   "execution_count": 6,
   "metadata": {
    "collapsed": true
   },
   "outputs": [],
   "source": [
    "globalClickMean = dfTrain['clicked'].mean()"
   ]
  },
  {
   "cell_type": "code",
   "execution_count": 5,
   "metadata": {
    "collapsed": true
   },
   "outputs": [],
   "source": [
    "dfClicked = dfTrain[dfTrain['clicked'] == 1]"
   ]
  },
  {
   "cell_type": "code",
   "execution_count": 8,
   "metadata": {
    "collapsed": false
   },
   "outputs": [
    {
     "data": {
      "text/html": [
       "<div>\n",
       "<table border=\"1\" class=\"dataframe\">\n",
       "  <thead>\n",
       "    <tr style=\"text-align: right;\">\n",
       "      <th></th>\n",
       "      <th>display_id</th>\n",
       "      <th>ad_id</th>\n",
       "      <th>clicked</th>\n",
       "    </tr>\n",
       "  </thead>\n",
       "  <tbody>\n",
       "    <tr>\n",
       "      <th>2</th>\n",
       "      <td>1</td>\n",
       "      <td>144739</td>\n",
       "      <td>1</td>\n",
       "    </tr>\n",
       "    <tr>\n",
       "      <th>9</th>\n",
       "      <td>2</td>\n",
       "      <td>308455</td>\n",
       "      <td>1</td>\n",
       "    </tr>\n",
       "    <tr>\n",
       "      <th>14</th>\n",
       "      <td>3</td>\n",
       "      <td>228657</td>\n",
       "      <td>1</td>\n",
       "    </tr>\n",
       "    <tr>\n",
       "      <th>17</th>\n",
       "      <td>4</td>\n",
       "      <td>153623</td>\n",
       "      <td>1</td>\n",
       "    </tr>\n",
       "    <tr>\n",
       "      <th>25</th>\n",
       "      <td>5</td>\n",
       "      <td>326514</td>\n",
       "      <td>1</td>\n",
       "    </tr>\n",
       "  </tbody>\n",
       "</table>\n",
       "</div>"
      ],
      "text/plain": [
       "    display_id   ad_id  clicked\n",
       "2            1  144739        1\n",
       "9            2  308455        1\n",
       "14           3  228657        1\n",
       "17           4  153623        1\n",
       "25           5  326514        1"
      ]
     },
     "execution_count": 8,
     "metadata": {},
     "output_type": "execute_result"
    }
   ],
   "source": [
    "dfClicked.head()"
   ]
  },
  {
   "cell_type": "code",
   "execution_count": 9,
   "metadata": {
    "collapsed": false
   },
   "outputs": [],
   "source": [
    "dfStats = dfClicked.groupby('ad_id')['clicked'].agg({'clicks' : 'count'}).reset_index()"
   ]
  },
  {
   "cell_type": "code",
   "execution_count": 10,
   "metadata": {
    "collapsed": false
   },
   "outputs": [
    {
     "data": {
      "text/html": [
       "<div>\n",
       "<table border=\"1\" class=\"dataframe\">\n",
       "  <thead>\n",
       "    <tr style=\"text-align: right;\">\n",
       "      <th></th>\n",
       "      <th>ad_id</th>\n",
       "      <th>clicks</th>\n",
       "    </tr>\n",
       "  </thead>\n",
       "  <tbody>\n",
       "    <tr>\n",
       "      <th>0</th>\n",
       "      <td>2</td>\n",
       "      <td>1</td>\n",
       "    </tr>\n",
       "    <tr>\n",
       "      <th>1</th>\n",
       "      <td>3</td>\n",
       "      <td>11</td>\n",
       "    </tr>\n",
       "    <tr>\n",
       "      <th>2</th>\n",
       "      <td>4</td>\n",
       "      <td>4</td>\n",
       "    </tr>\n",
       "    <tr>\n",
       "      <th>3</th>\n",
       "      <td>7</td>\n",
       "      <td>985</td>\n",
       "    </tr>\n",
       "    <tr>\n",
       "      <th>4</th>\n",
       "      <td>8</td>\n",
       "      <td>4</td>\n",
       "    </tr>\n",
       "  </tbody>\n",
       "</table>\n",
       "</div>"
      ],
      "text/plain": [
       "   ad_id  clicks\n",
       "0      2       1\n",
       "1      3      11\n",
       "2      4       4\n",
       "3      7     985\n",
       "4      8       4"
      ]
     },
     "execution_count": 10,
     "metadata": {},
     "output_type": "execute_result"
    }
   ],
   "source": [
    "dfStats.head()"
   ]
  },
  {
   "cell_type": "code",
   "execution_count": 11,
   "metadata": {
    "collapsed": true
   },
   "outputs": [],
   "source": [
    "dfViews = dfTrain.groupby('ad_id')['ad_id'].agg({'views' : 'count'}).reset_index()"
   ]
  },
  {
   "cell_type": "code",
   "execution_count": 12,
   "metadata": {
    "collapsed": true
   },
   "outputs": [],
   "source": [
    "dfStats = dfStats.merge(dfViews, on='ad_id', how='left')"
   ]
  },
  {
   "cell_type": "code",
   "execution_count": 13,
   "metadata": {
    "collapsed": false
   },
   "outputs": [
    {
     "data": {
      "text/html": [
       "<div>\n",
       "<table border=\"1\" class=\"dataframe\">\n",
       "  <thead>\n",
       "    <tr style=\"text-align: right;\">\n",
       "      <th></th>\n",
       "      <th>ad_id</th>\n",
       "      <th>clicks</th>\n",
       "      <th>views</th>\n",
       "    </tr>\n",
       "  </thead>\n",
       "  <tbody>\n",
       "    <tr>\n",
       "      <th>0</th>\n",
       "      <td>2</td>\n",
       "      <td>1</td>\n",
       "      <td>22</td>\n",
       "    </tr>\n",
       "    <tr>\n",
       "      <th>1</th>\n",
       "      <td>3</td>\n",
       "      <td>11</td>\n",
       "      <td>161</td>\n",
       "    </tr>\n",
       "    <tr>\n",
       "      <th>2</th>\n",
       "      <td>4</td>\n",
       "      <td>4</td>\n",
       "      <td>32</td>\n",
       "    </tr>\n",
       "    <tr>\n",
       "      <th>3</th>\n",
       "      <td>7</td>\n",
       "      <td>985</td>\n",
       "      <td>3406</td>\n",
       "    </tr>\n",
       "    <tr>\n",
       "      <th>4</th>\n",
       "      <td>8</td>\n",
       "      <td>4</td>\n",
       "      <td>28</td>\n",
       "    </tr>\n",
       "  </tbody>\n",
       "</table>\n",
       "</div>"
      ],
      "text/plain": [
       "   ad_id  clicks  views\n",
       "0      2       1     22\n",
       "1      3      11    161\n",
       "2      4       4     32\n",
       "3      7     985   3406\n",
       "4      8       4     28"
      ]
     },
     "execution_count": 13,
     "metadata": {},
     "output_type": "execute_result"
    }
   ],
   "source": [
    "dfStats.head()"
   ]
  },
  {
   "cell_type": "markdown",
   "metadata": {},
   "source": [
    "## Why the 4?\n",
    "\n",
    "This is from the initial notebook online that used a 12 instead.  We think this is due to a Bayes' calculation of the conditional probability. Four is the average number of ads in a display (2-12 ads per display with 60% of the displays having either 4 or 6 ads per display)"
   ]
  },
  {
   "cell_type": "code",
   "execution_count": 14,
   "metadata": {
    "collapsed": false,
    "scrolled": false
   },
   "outputs": [],
   "source": [
    "dfStats['click_ratio'] = (dfStats['clicks'] + 4.0*globalClickMean) / (4.0 + dfStats['views'])"
   ]
  },
  {
   "cell_type": "code",
   "execution_count": 15,
   "metadata": {
    "collapsed": false
   },
   "outputs": [
    {
     "data": {
      "text/html": [
       "<div>\n",
       "<table border=\"1\" class=\"dataframe\">\n",
       "  <thead>\n",
       "    <tr style=\"text-align: right;\">\n",
       "      <th></th>\n",
       "      <th>ad_id</th>\n",
       "      <th>clicks</th>\n",
       "      <th>views</th>\n",
       "      <th>click_ratio</th>\n",
       "    </tr>\n",
       "  </thead>\n",
       "  <tbody>\n",
       "    <tr>\n",
       "      <th>0</th>\n",
       "      <td>2</td>\n",
       "      <td>1</td>\n",
       "      <td>22</td>\n",
       "      <td>0.068253</td>\n",
       "    </tr>\n",
       "    <tr>\n",
       "      <th>1</th>\n",
       "      <td>3</td>\n",
       "      <td>11</td>\n",
       "      <td>161</td>\n",
       "      <td>0.071361</td>\n",
       "    </tr>\n",
       "    <tr>\n",
       "      <th>2</th>\n",
       "      <td>4</td>\n",
       "      <td>4</td>\n",
       "      <td>32</td>\n",
       "      <td>0.132627</td>\n",
       "    </tr>\n",
       "    <tr>\n",
       "      <th>3</th>\n",
       "      <td>7</td>\n",
       "      <td>985</td>\n",
       "      <td>3406</td>\n",
       "      <td>0.289083</td>\n",
       "    </tr>\n",
       "    <tr>\n",
       "      <th>4</th>\n",
       "      <td>8</td>\n",
       "      <td>4</td>\n",
       "      <td>28</td>\n",
       "      <td>0.149206</td>\n",
       "    </tr>\n",
       "  </tbody>\n",
       "</table>\n",
       "</div>"
      ],
      "text/plain": [
       "   ad_id  clicks  views  click_ratio\n",
       "0      2       1     22     0.068253\n",
       "1      3      11    161     0.071361\n",
       "2      4       4     32     0.132627\n",
       "3      7     985   3406     0.289083\n",
       "4      8       4     28     0.149206"
      ]
     },
     "execution_count": 15,
     "metadata": {},
     "output_type": "execute_result"
    }
   ],
   "source": [
    "dfStats.head()"
   ]
  },
  {
   "cell_type": "code",
   "execution_count": 16,
   "metadata": {
    "collapsed": false
   },
   "outputs": [],
   "source": [
    "dfStats['penalty'] = -1.0 / np.exp(dfStats['views'])"
   ]
  },
  {
   "cell_type": "code",
   "execution_count": 17,
   "metadata": {
    "collapsed": false,
    "scrolled": true
   },
   "outputs": [
    {
     "name": "stdout",
     "output_type": "stream",
     "text": [
      "The maximum penalty is -0.0000 and the minimum penalty is -0.3679\n"
     ]
    }
   ],
   "source": [
    "print('The maximum penalty is {:.4f} and the minimum penalty is {:.4f}'.format(\n",
    "        dfStats['penalty'].max(), dfStats['penalty'].min()))"
   ]
  },
  {
   "cell_type": "code",
   "execution_count": 18,
   "metadata": {
    "collapsed": false
   },
   "outputs": [
    {
     "data": {
      "image/png": "[encoded data removed]",
      "text/plain": [
       "<matplotlib.figure.Figure at 0x7f42d5104ad0>"
      ]
     },
     "metadata": {},
     "output_type": "display_data"
    }
   ],
   "source": [
    "dfStats.hist('penalty');"
   ]
  },
  {
   "cell_type": "code",
   "execution_count": 19,
   "metadata": {
    "collapsed": false
   },
   "outputs": [],
   "source": [
    "dfStats['likelihood'] = dfStats['click_ratio'] + dfStats['penalty']"
   ]
  },
  {
   "cell_type": "code",
   "execution_count": 20,
   "metadata": {
    "collapsed": false
   },
   "outputs": [
    {
     "name": "stdout",
     "output_type": "stream",
     "text": [
      "The maximum likelihood is 0.8922 and the minimum likelihood is -0.0130\n"
     ]
    }
   ],
   "source": [
    "print('The maximum likelihood is {:.4f} and the minimum likelihood is {:.4f}'.format(\n",
    "        dfStats['likelihood'].max(), dfStats['likelihood'].min()))"
   ]
  },
  {
   "cell_type": "code",
   "execution_count": 21,
   "metadata": {
    "collapsed": false
   },
   "outputs": [
    {
     "data": {
      "image/png": "[encoded data removed]",
      "text/plain": [
       "<matplotlib.figure.Figure at 0x7f42d538ffd0>"
      ]
     },
     "metadata": {},
     "output_type": "display_data"
    }
   ],
   "source": [
    "dfStats[['likelihood', 'click_ratio']].plot.hist(alpha=0.5, stacked=True);"
   ]
  },
  {
   "cell_type": "markdown",
   "metadata": {
    "collapsed": false
   },
   "source": [
    "## Save the order to file"
   ]
  },
  {
   "cell_type": "code",
   "execution_count": 22,
   "metadata": {
    "collapsed": true
   },
   "outputs": [],
   "source": [
    "dfStats = dfStats.sort_values('likelihood', ascending=False)"
   ]
  },
  {
   "cell_type": "code",
   "execution_count": 23,
   "metadata": {
    "collapsed": false
   },
   "outputs": [
    {
     "data": {
      "text/html": [
       "<div>\n",
       "<table border=\"1\" class=\"dataframe\">\n",
       "  <thead>\n",
       "    <tr style=\"text-align: right;\">\n",
       "      <th></th>\n",
       "      <th>ad_id</th>\n",
       "      <th>clicks</th>\n",
       "      <th>views</th>\n",
       "      <th>click_ratio</th>\n",
       "      <th>penalty</th>\n",
       "      <th>likelihood</th>\n",
       "    </tr>\n",
       "  </thead>\n",
       "  <tbody>\n",
       "    <tr>\n",
       "      <th>141198</th>\n",
       "      <td>298874</td>\n",
       "      <td>1</td>\n",
       "      <td>1</td>\n",
       "      <td>0.354916</td>\n",
       "      <td>-0.367879</td>\n",
       "      <td>-0.012963</td>\n",
       "    </tr>\n",
       "    <tr>\n",
       "      <th>141181</th>\n",
       "      <td>298833</td>\n",
       "      <td>1</td>\n",
       "      <td>1</td>\n",
       "      <td>0.354916</td>\n",
       "      <td>-0.367879</td>\n",
       "      <td>-0.012963</td>\n",
       "    </tr>\n",
       "    <tr>\n",
       "      <th>141179</th>\n",
       "      <td>298823</td>\n",
       "      <td>1</td>\n",
       "      <td>1</td>\n",
       "      <td>0.354916</td>\n",
       "      <td>-0.367879</td>\n",
       "      <td>-0.012963</td>\n",
       "    </tr>\n",
       "    <tr>\n",
       "      <th>141157</th>\n",
       "      <td>298792</td>\n",
       "      <td>1</td>\n",
       "      <td>1</td>\n",
       "      <td>0.354916</td>\n",
       "      <td>-0.367879</td>\n",
       "      <td>-0.012963</td>\n",
       "    </tr>\n",
       "    <tr>\n",
       "      <th>141141</th>\n",
       "      <td>298761</td>\n",
       "      <td>1</td>\n",
       "      <td>1</td>\n",
       "      <td>0.354916</td>\n",
       "      <td>-0.367879</td>\n",
       "      <td>-0.012963</td>\n",
       "    </tr>\n",
       "    <tr>\n",
       "      <th>141139</th>\n",
       "      <td>298750</td>\n",
       "      <td>1</td>\n",
       "      <td>1</td>\n",
       "      <td>0.354916</td>\n",
       "      <td>-0.367879</td>\n",
       "      <td>-0.012963</td>\n",
       "    </tr>\n",
       "    <tr>\n",
       "      <th>141131</th>\n",
       "      <td>298723</td>\n",
       "      <td>1</td>\n",
       "      <td>1</td>\n",
       "      <td>0.354916</td>\n",
       "      <td>-0.367879</td>\n",
       "      <td>-0.012963</td>\n",
       "    </tr>\n",
       "    <tr>\n",
       "      <th>240112</th>\n",
       "      <td>502958</td>\n",
       "      <td>1</td>\n",
       "      <td>1</td>\n",
       "      <td>0.354916</td>\n",
       "      <td>-0.367879</td>\n",
       "      <td>-0.012963</td>\n",
       "    </tr>\n",
       "    <tr>\n",
       "      <th>141118</th>\n",
       "      <td>298682</td>\n",
       "      <td>1</td>\n",
       "      <td>1</td>\n",
       "      <td>0.354916</td>\n",
       "      <td>-0.367879</td>\n",
       "      <td>-0.012963</td>\n",
       "    </tr>\n",
       "    <tr>\n",
       "      <th>254135</th>\n",
       "      <td>548019</td>\n",
       "      <td>1</td>\n",
       "      <td>1</td>\n",
       "      <td>0.354916</td>\n",
       "      <td>-0.367879</td>\n",
       "      <td>-0.012963</td>\n",
       "    </tr>\n",
       "  </tbody>\n",
       "</table>\n",
       "</div>"
      ],
      "text/plain": [
       "         ad_id  clicks  views  click_ratio   penalty  likelihood\n",
       "141198  298874       1      1     0.354916 -0.367879   -0.012963\n",
       "141181  298833       1      1     0.354916 -0.367879   -0.012963\n",
       "141179  298823       1      1     0.354916 -0.367879   -0.012963\n",
       "141157  298792       1      1     0.354916 -0.367879   -0.012963\n",
       "141141  298761       1      1     0.354916 -0.367879   -0.012963\n",
       "141139  298750       1      1     0.354916 -0.367879   -0.012963\n",
       "141131  298723       1      1     0.354916 -0.367879   -0.012963\n",
       "240112  502958       1      1     0.354916 -0.367879   -0.012963\n",
       "141118  298682       1      1     0.354916 -0.367879   -0.012963\n",
       "254135  548019       1      1     0.354916 -0.367879   -0.012963"
      ]
     },
     "execution_count": 23,
     "metadata": {},
     "output_type": "execute_result"
    }
   ],
   "source": [
    "dfStats.tail(10)"
   ]
  },
  {
   "cell_type": "code",
   "execution_count": 24,
   "metadata": {
    "collapsed": true
   },
   "outputs": [],
   "source": [
    "dfStats['ad_id'].to_csv(dataDir + \"clickedOrder.csv\", index=False, header=True)"
   ]
  },
  {
   "cell_type": "code",
   "execution_count": null,
   "metadata": {
    "collapsed": true
   },
   "outputs": [],
   "source": []
  }
 ],
 "metadata": {
  "anaconda-cloud": {},
  "kernelspec": {
   "display_name": "Python [default]",
   "language": "python",
   "name": "python2"
  },
  "language_info": {
   "codemirror_mode": {
    "name": "ipython",
    "version": 2
   },
   "file_extension": ".py",
   "mimetype": "text/x-python",
   "name": "python",
   "nbconvert_exporter": "python",
   "pygments_lexer": "ipython2",
   "version": "2.7.12"
  }
 },
 "nbformat": 4,
 "nbformat_minor": 1
}
