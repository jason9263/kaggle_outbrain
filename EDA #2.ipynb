{
 "cells": [
  {
   "cell_type": "code",
   "execution_count": 1,
   "metadata": {
    "collapsed": false
   },
   "outputs": [],
   "source": [
    "import numpy as np \n",
    "import pandas as pd\n",
    "import os\n",
    "import matplotlib.pyplot as plt\n",
    "import seaborn as sns\n",
    "%matplotlib inline\n",
    "\n",
    "p = sns.color_palette()"
   ]
  },
  {
   "cell_type": "markdown",
   "metadata": {},
   "source": [
    "## Load the training set"
   ]
  },
  {
   "cell_type": "code",
   "execution_count": 2,
   "metadata": {
    "collapsed": false
   },
   "outputs": [],
   "source": [
    "dfTrain = pd.read_csv('data/clicks_train.csv')"
   ]
  },
  {
   "cell_type": "code",
   "execution_count": 3,
   "metadata": {
    "collapsed": false
   },
   "outputs": [
    {
     "name": "stdout",
     "output_type": "stream",
     "text": [
      "There are 87,141,731 rows in this dataset.\n"
     ]
    }
   ],
   "source": [
    "print('There are {:,d} rows in this dataset.'.format(dfTrain.shape[0]))"
   ]
  },
  {
   "cell_type": "markdown",
   "metadata": {},
   "source": [
    "## Figure out how many ads per display and add a column with that info"
   ]
  },
  {
   "cell_type": "code",
   "execution_count": 4,
   "metadata": {
    "collapsed": false
   },
   "outputs": [],
   "source": [
    "dfTrain['# ads in display'] = dfTrain.groupby('display_id')['ad_id'].transform('count')"
   ]
  },
  {
   "cell_type": "code",
   "execution_count": 5,
   "metadata": {
    "collapsed": false
   },
   "outputs": [
    {
     "data": {
      "text/html": [
       "<div>\n",
       "<table border=\"1\" class=\"dataframe\">\n",
       "  <thead>\n",
       "    <tr style=\"text-align: right;\">\n",
       "      <th></th>\n",
       "      <th>display_id</th>\n",
       "      <th>ad_id</th>\n",
       "      <th>clicked</th>\n",
       "      <th># ads in display</th>\n",
       "    </tr>\n",
       "  </thead>\n",
       "  <tbody>\n",
       "    <tr>\n",
       "      <th>0</th>\n",
       "      <td>1</td>\n",
       "      <td>42337</td>\n",
       "      <td>0</td>\n",
       "      <td>6</td>\n",
       "    </tr>\n",
       "    <tr>\n",
       "      <th>1</th>\n",
       "      <td>1</td>\n",
       "      <td>139684</td>\n",
       "      <td>0</td>\n",
       "      <td>6</td>\n",
       "    </tr>\n",
       "    <tr>\n",
       "      <th>2</th>\n",
       "      <td>1</td>\n",
       "      <td>144739</td>\n",
       "      <td>1</td>\n",
       "      <td>6</td>\n",
       "    </tr>\n",
       "    <tr>\n",
       "      <th>3</th>\n",
       "      <td>1</td>\n",
       "      <td>156824</td>\n",
       "      <td>0</td>\n",
       "      <td>6</td>\n",
       "    </tr>\n",
       "    <tr>\n",
       "      <th>4</th>\n",
       "      <td>1</td>\n",
       "      <td>279295</td>\n",
       "      <td>0</td>\n",
       "      <td>6</td>\n",
       "    </tr>\n",
       "    <tr>\n",
       "      <th>5</th>\n",
       "      <td>1</td>\n",
       "      <td>296965</td>\n",
       "      <td>0</td>\n",
       "      <td>6</td>\n",
       "    </tr>\n",
       "    <tr>\n",
       "      <th>6</th>\n",
       "      <td>2</td>\n",
       "      <td>125211</td>\n",
       "      <td>0</td>\n",
       "      <td>4</td>\n",
       "    </tr>\n",
       "    <tr>\n",
       "      <th>7</th>\n",
       "      <td>2</td>\n",
       "      <td>156535</td>\n",
       "      <td>0</td>\n",
       "      <td>4</td>\n",
       "    </tr>\n",
       "    <tr>\n",
       "      <th>8</th>\n",
       "      <td>2</td>\n",
       "      <td>169564</td>\n",
       "      <td>0</td>\n",
       "      <td>4</td>\n",
       "    </tr>\n",
       "    <tr>\n",
       "      <th>9</th>\n",
       "      <td>2</td>\n",
       "      <td>308455</td>\n",
       "      <td>1</td>\n",
       "      <td>4</td>\n",
       "    </tr>\n",
       "    <tr>\n",
       "      <th>10</th>\n",
       "      <td>3</td>\n",
       "      <td>71547</td>\n",
       "      <td>0</td>\n",
       "      <td>6</td>\n",
       "    </tr>\n",
       "    <tr>\n",
       "      <th>11</th>\n",
       "      <td>3</td>\n",
       "      <td>95814</td>\n",
       "      <td>0</td>\n",
       "      <td>6</td>\n",
       "    </tr>\n",
       "    <tr>\n",
       "      <th>12</th>\n",
       "      <td>3</td>\n",
       "      <td>152141</td>\n",
       "      <td>0</td>\n",
       "      <td>6</td>\n",
       "    </tr>\n",
       "    <tr>\n",
       "      <th>13</th>\n",
       "      <td>3</td>\n",
       "      <td>183846</td>\n",
       "      <td>0</td>\n",
       "      <td>6</td>\n",
       "    </tr>\n",
       "    <tr>\n",
       "      <th>14</th>\n",
       "      <td>3</td>\n",
       "      <td>228657</td>\n",
       "      <td>1</td>\n",
       "      <td>6</td>\n",
       "    </tr>\n",
       "    <tr>\n",
       "      <th>15</th>\n",
       "      <td>3</td>\n",
       "      <td>250082</td>\n",
       "      <td>0</td>\n",
       "      <td>6</td>\n",
       "    </tr>\n",
       "    <tr>\n",
       "      <th>16</th>\n",
       "      <td>4</td>\n",
       "      <td>149930</td>\n",
       "      <td>0</td>\n",
       "      <td>5</td>\n",
       "    </tr>\n",
       "    <tr>\n",
       "      <th>17</th>\n",
       "      <td>4</td>\n",
       "      <td>153623</td>\n",
       "      <td>1</td>\n",
       "      <td>5</td>\n",
       "    </tr>\n",
       "    <tr>\n",
       "      <th>18</th>\n",
       "      <td>4</td>\n",
       "      <td>184709</td>\n",
       "      <td>0</td>\n",
       "      <td>5</td>\n",
       "    </tr>\n",
       "    <tr>\n",
       "      <th>19</th>\n",
       "      <td>4</td>\n",
       "      <td>186849</td>\n",
       "      <td>0</td>\n",
       "      <td>5</td>\n",
       "    </tr>\n",
       "  </tbody>\n",
       "</table>\n",
       "</div>"
      ],
      "text/plain": [
       "    display_id   ad_id  clicked  # ads in display\n",
       "0            1   42337        0                 6\n",
       "1            1  139684        0                 6\n",
       "2            1  144739        1                 6\n",
       "3            1  156824        0                 6\n",
       "4            1  279295        0                 6\n",
       "5            1  296965        0                 6\n",
       "6            2  125211        0                 4\n",
       "7            2  156535        0                 4\n",
       "8            2  169564        0                 4\n",
       "9            2  308455        1                 4\n",
       "10           3   71547        0                 6\n",
       "11           3   95814        0                 6\n",
       "12           3  152141        0                 6\n",
       "13           3  183846        0                 6\n",
       "14           3  228657        1                 6\n",
       "15           3  250082        0                 6\n",
       "16           4  149930        0                 5\n",
       "17           4  153623        1                 5\n",
       "18           4  184709        0                 5\n",
       "19           4  186849        0                 5"
      ]
     },
     "execution_count": 5,
     "metadata": {},
     "output_type": "execute_result"
    }
   ],
   "source": [
    "dfTrain.head(20)"
   ]
  },
  {
   "cell_type": "code",
   "execution_count": 16,
   "metadata": {
    "collapsed": false
   },
   "outputs": [],
   "source": [
    "adIDMostDisplayed = dfTrain['ad_id'].value_counts().index[0]"
   ]
  },
  {
   "cell_type": "code",
   "execution_count": 7,
   "metadata": {
    "collapsed": false
   },
   "outputs": [
    {
     "name": "stdout",
     "output_type": "stream",
     "text": [
      "The most displayed ad is 173005 with 211,824 displays\n"
     ]
    }
   ],
   "source": [
    "print('The most displayed ad is {} with {:,d} displays'.format(adIDMostDisplayed,\n",
    "                                                        dfTrain[dfTrain['ad_id'] == adIDMostDisplayed].shape[0]))"
   ]
  },
  {
   "cell_type": "markdown",
   "metadata": {},
   "source": [
    "## Now get the click likelihood (# clicks for ad / # times ad is displayed)"
   ]
  },
  {
   "cell_type": "code",
   "execution_count": 8,
   "metadata": {
    "collapsed": false
   },
   "outputs": [],
   "source": [
    "dfTrain['overall click ratio'] = dfTrain.groupby('ad_id')['clicked'].transform('mean')"
   ]
  },
  {
   "cell_type": "code",
   "execution_count": 9,
   "metadata": {
    "collapsed": false
   },
   "outputs": [
    {
     "data": {
      "text/html": [
       "<div>\n",
       "<table border=\"1\" class=\"dataframe\">\n",
       "  <thead>\n",
       "    <tr style=\"text-align: right;\">\n",
       "      <th></th>\n",
       "      <th>display_id</th>\n",
       "      <th>ad_id</th>\n",
       "      <th>clicked</th>\n",
       "      <th># ads in display</th>\n",
       "      <th>overall click ratio</th>\n",
       "    </tr>\n",
       "  </thead>\n",
       "  <tbody>\n",
       "    <tr>\n",
       "      <th>257</th>\n",
       "      <td>54</td>\n",
       "      <td>173005</td>\n",
       "      <td>0</td>\n",
       "      <td>9</td>\n",
       "      <td>0.076384</td>\n",
       "    </tr>\n",
       "    <tr>\n",
       "      <th>500</th>\n",
       "      <td>102</td>\n",
       "      <td>173005</td>\n",
       "      <td>0</td>\n",
       "      <td>3</td>\n",
       "      <td>0.076384</td>\n",
       "    </tr>\n",
       "    <tr>\n",
       "      <th>505</th>\n",
       "      <td>103</td>\n",
       "      <td>173005</td>\n",
       "      <td>0</td>\n",
       "      <td>5</td>\n",
       "      <td>0.076384</td>\n",
       "    </tr>\n",
       "    <tr>\n",
       "      <th>916</th>\n",
       "      <td>181</td>\n",
       "      <td>173005</td>\n",
       "      <td>0</td>\n",
       "      <td>6</td>\n",
       "      <td>0.076384</td>\n",
       "    </tr>\n",
       "    <tr>\n",
       "      <th>925</th>\n",
       "      <td>183</td>\n",
       "      <td>173005</td>\n",
       "      <td>0</td>\n",
       "      <td>6</td>\n",
       "      <td>0.076384</td>\n",
       "    </tr>\n",
       "    <tr>\n",
       "      <th>1168</th>\n",
       "      <td>226</td>\n",
       "      <td>173005</td>\n",
       "      <td>0</td>\n",
       "      <td>2</td>\n",
       "      <td>0.076384</td>\n",
       "    </tr>\n",
       "    <tr>\n",
       "      <th>1599</th>\n",
       "      <td>311</td>\n",
       "      <td>173005</td>\n",
       "      <td>0</td>\n",
       "      <td>6</td>\n",
       "      <td>0.076384</td>\n",
       "    </tr>\n",
       "    <tr>\n",
       "      <th>2000</th>\n",
       "      <td>394</td>\n",
       "      <td>173005</td>\n",
       "      <td>0</td>\n",
       "      <td>9</td>\n",
       "      <td>0.076384</td>\n",
       "    </tr>\n",
       "    <tr>\n",
       "      <th>2039</th>\n",
       "      <td>403</td>\n",
       "      <td>173005</td>\n",
       "      <td>0</td>\n",
       "      <td>5</td>\n",
       "      <td>0.076384</td>\n",
       "    </tr>\n",
       "    <tr>\n",
       "      <th>2103</th>\n",
       "      <td>414</td>\n",
       "      <td>173005</td>\n",
       "      <td>0</td>\n",
       "      <td>4</td>\n",
       "      <td>0.076384</td>\n",
       "    </tr>\n",
       "    <tr>\n",
       "      <th>2166</th>\n",
       "      <td>427</td>\n",
       "      <td>173005</td>\n",
       "      <td>0</td>\n",
       "      <td>6</td>\n",
       "      <td>0.076384</td>\n",
       "    </tr>\n",
       "    <tr>\n",
       "      <th>2800</th>\n",
       "      <td>556</td>\n",
       "      <td>173005</td>\n",
       "      <td>0</td>\n",
       "      <td>9</td>\n",
       "      <td>0.076384</td>\n",
       "    </tr>\n",
       "    <tr>\n",
       "      <th>2927</th>\n",
       "      <td>581</td>\n",
       "      <td>173005</td>\n",
       "      <td>0</td>\n",
       "      <td>8</td>\n",
       "      <td>0.076384</td>\n",
       "    </tr>\n",
       "    <tr>\n",
       "      <th>2934</th>\n",
       "      <td>583</td>\n",
       "      <td>173005</td>\n",
       "      <td>0</td>\n",
       "      <td>6</td>\n",
       "      <td>0.076384</td>\n",
       "    </tr>\n",
       "    <tr>\n",
       "      <th>2945</th>\n",
       "      <td>585</td>\n",
       "      <td>173005</td>\n",
       "      <td>0</td>\n",
       "      <td>6</td>\n",
       "      <td>0.076384</td>\n",
       "    </tr>\n",
       "    <tr>\n",
       "      <th>3319</th>\n",
       "      <td>661</td>\n",
       "      <td>173005</td>\n",
       "      <td>0</td>\n",
       "      <td>4</td>\n",
       "      <td>0.076384</td>\n",
       "    </tr>\n",
       "    <tr>\n",
       "      <th>3421</th>\n",
       "      <td>682</td>\n",
       "      <td>173005</td>\n",
       "      <td>0</td>\n",
       "      <td>6</td>\n",
       "      <td>0.076384</td>\n",
       "    </tr>\n",
       "    <tr>\n",
       "      <th>3610</th>\n",
       "      <td>723</td>\n",
       "      <td>173005</td>\n",
       "      <td>0</td>\n",
       "      <td>9</td>\n",
       "      <td>0.076384</td>\n",
       "    </tr>\n",
       "    <tr>\n",
       "      <th>3767</th>\n",
       "      <td>755</td>\n",
       "      <td>173005</td>\n",
       "      <td>0</td>\n",
       "      <td>6</td>\n",
       "      <td>0.076384</td>\n",
       "    </tr>\n",
       "    <tr>\n",
       "      <th>3774</th>\n",
       "      <td>756</td>\n",
       "      <td>173005</td>\n",
       "      <td>0</td>\n",
       "      <td>4</td>\n",
       "      <td>0.076384</td>\n",
       "    </tr>\n",
       "  </tbody>\n",
       "</table>\n",
       "</div>"
      ],
      "text/plain": [
       "      display_id   ad_id  clicked  # ads in display  overall click ratio\n",
       "257           54  173005        0                 9             0.076384\n",
       "500          102  173005        0                 3             0.076384\n",
       "505          103  173005        0                 5             0.076384\n",
       "916          181  173005        0                 6             0.076384\n",
       "925          183  173005        0                 6             0.076384\n",
       "1168         226  173005        0                 2             0.076384\n",
       "1599         311  173005        0                 6             0.076384\n",
       "2000         394  173005        0                 9             0.076384\n",
       "2039         403  173005        0                 5             0.076384\n",
       "2103         414  173005        0                 4             0.076384\n",
       "2166         427  173005        0                 6             0.076384\n",
       "2800         556  173005        0                 9             0.076384\n",
       "2927         581  173005        0                 8             0.076384\n",
       "2934         583  173005        0                 6             0.076384\n",
       "2945         585  173005        0                 6             0.076384\n",
       "3319         661  173005        0                 4             0.076384\n",
       "3421         682  173005        0                 6             0.076384\n",
       "3610         723  173005        0                 9             0.076384\n",
       "3767         755  173005        0                 6             0.076384\n",
       "3774         756  173005        0                 4             0.076384"
      ]
     },
     "execution_count": 9,
     "metadata": {},
     "output_type": "execute_result"
    }
   ],
   "source": [
    "dfTrain[dfTrain['ad_id'] == adIDMostDisplayed].head(20)"
   ]
  },
  {
   "cell_type": "code",
   "execution_count": 10,
   "metadata": {
    "collapsed": false
   },
   "outputs": [],
   "source": [
    "dfTrain['click ratio per display size'] = dfTrain.groupby(['ad_id', '# ads in display'])['clicked'].transform('mean')"
   ]
  },
  {
   "cell_type": "code",
   "execution_count": 11,
   "metadata": {
    "collapsed": false
   },
   "outputs": [
    {
     "data": {
      "text/html": [
       "<div>\n",
       "<table border=\"1\" class=\"dataframe\">\n",
       "  <thead>\n",
       "    <tr style=\"text-align: right;\">\n",
       "      <th></th>\n",
       "      <th>display_id</th>\n",
       "      <th>ad_id</th>\n",
       "      <th>clicked</th>\n",
       "      <th># ads in display</th>\n",
       "      <th>overall click ratio</th>\n",
       "      <th>click ratio per display size</th>\n",
       "    </tr>\n",
       "  </thead>\n",
       "  <tbody>\n",
       "    <tr>\n",
       "      <th>257</th>\n",
       "      <td>54</td>\n",
       "      <td>173005</td>\n",
       "      <td>0</td>\n",
       "      <td>9</td>\n",
       "      <td>0.076384</td>\n",
       "      <td>0.025623</td>\n",
       "    </tr>\n",
       "    <tr>\n",
       "      <th>500</th>\n",
       "      <td>102</td>\n",
       "      <td>173005</td>\n",
       "      <td>0</td>\n",
       "      <td>3</td>\n",
       "      <td>0.076384</td>\n",
       "      <td>0.166994</td>\n",
       "    </tr>\n",
       "    <tr>\n",
       "      <th>505</th>\n",
       "      <td>103</td>\n",
       "      <td>173005</td>\n",
       "      <td>0</td>\n",
       "      <td>5</td>\n",
       "      <td>0.076384</td>\n",
       "      <td>0.084531</td>\n",
       "    </tr>\n",
       "    <tr>\n",
       "      <th>916</th>\n",
       "      <td>181</td>\n",
       "      <td>173005</td>\n",
       "      <td>0</td>\n",
       "      <td>6</td>\n",
       "      <td>0.076384</td>\n",
       "      <td>0.069433</td>\n",
       "    </tr>\n",
       "    <tr>\n",
       "      <th>925</th>\n",
       "      <td>183</td>\n",
       "      <td>173005</td>\n",
       "      <td>0</td>\n",
       "      <td>6</td>\n",
       "      <td>0.076384</td>\n",
       "      <td>0.069433</td>\n",
       "    </tr>\n",
       "    <tr>\n",
       "      <th>1168</th>\n",
       "      <td>226</td>\n",
       "      <td>173005</td>\n",
       "      <td>0</td>\n",
       "      <td>2</td>\n",
       "      <td>0.076384</td>\n",
       "      <td>0.256781</td>\n",
       "    </tr>\n",
       "    <tr>\n",
       "      <th>1599</th>\n",
       "      <td>311</td>\n",
       "      <td>173005</td>\n",
       "      <td>0</td>\n",
       "      <td>6</td>\n",
       "      <td>0.076384</td>\n",
       "      <td>0.069433</td>\n",
       "    </tr>\n",
       "    <tr>\n",
       "      <th>2000</th>\n",
       "      <td>394</td>\n",
       "      <td>173005</td>\n",
       "      <td>0</td>\n",
       "      <td>9</td>\n",
       "      <td>0.076384</td>\n",
       "      <td>0.025623</td>\n",
       "    </tr>\n",
       "    <tr>\n",
       "      <th>2039</th>\n",
       "      <td>403</td>\n",
       "      <td>173005</td>\n",
       "      <td>0</td>\n",
       "      <td>5</td>\n",
       "      <td>0.076384</td>\n",
       "      <td>0.084531</td>\n",
       "    </tr>\n",
       "    <tr>\n",
       "      <th>2103</th>\n",
       "      <td>414</td>\n",
       "      <td>173005</td>\n",
       "      <td>0</td>\n",
       "      <td>4</td>\n",
       "      <td>0.076384</td>\n",
       "      <td>0.106172</td>\n",
       "    </tr>\n",
       "    <tr>\n",
       "      <th>2166</th>\n",
       "      <td>427</td>\n",
       "      <td>173005</td>\n",
       "      <td>0</td>\n",
       "      <td>6</td>\n",
       "      <td>0.076384</td>\n",
       "      <td>0.069433</td>\n",
       "    </tr>\n",
       "    <tr>\n",
       "      <th>2800</th>\n",
       "      <td>556</td>\n",
       "      <td>173005</td>\n",
       "      <td>0</td>\n",
       "      <td>9</td>\n",
       "      <td>0.076384</td>\n",
       "      <td>0.025623</td>\n",
       "    </tr>\n",
       "    <tr>\n",
       "      <th>2927</th>\n",
       "      <td>581</td>\n",
       "      <td>173005</td>\n",
       "      <td>0</td>\n",
       "      <td>8</td>\n",
       "      <td>0.076384</td>\n",
       "      <td>0.044344</td>\n",
       "    </tr>\n",
       "    <tr>\n",
       "      <th>2934</th>\n",
       "      <td>583</td>\n",
       "      <td>173005</td>\n",
       "      <td>0</td>\n",
       "      <td>6</td>\n",
       "      <td>0.076384</td>\n",
       "      <td>0.069433</td>\n",
       "    </tr>\n",
       "    <tr>\n",
       "      <th>2945</th>\n",
       "      <td>585</td>\n",
       "      <td>173005</td>\n",
       "      <td>0</td>\n",
       "      <td>6</td>\n",
       "      <td>0.076384</td>\n",
       "      <td>0.069433</td>\n",
       "    </tr>\n",
       "    <tr>\n",
       "      <th>3319</th>\n",
       "      <td>661</td>\n",
       "      <td>173005</td>\n",
       "      <td>0</td>\n",
       "      <td>4</td>\n",
       "      <td>0.076384</td>\n",
       "      <td>0.106172</td>\n",
       "    </tr>\n",
       "    <tr>\n",
       "      <th>3421</th>\n",
       "      <td>682</td>\n",
       "      <td>173005</td>\n",
       "      <td>0</td>\n",
       "      <td>6</td>\n",
       "      <td>0.076384</td>\n",
       "      <td>0.069433</td>\n",
       "    </tr>\n",
       "    <tr>\n",
       "      <th>3610</th>\n",
       "      <td>723</td>\n",
       "      <td>173005</td>\n",
       "      <td>0</td>\n",
       "      <td>9</td>\n",
       "      <td>0.076384</td>\n",
       "      <td>0.025623</td>\n",
       "    </tr>\n",
       "    <tr>\n",
       "      <th>3767</th>\n",
       "      <td>755</td>\n",
       "      <td>173005</td>\n",
       "      <td>0</td>\n",
       "      <td>6</td>\n",
       "      <td>0.076384</td>\n",
       "      <td>0.069433</td>\n",
       "    </tr>\n",
       "    <tr>\n",
       "      <th>3774</th>\n",
       "      <td>756</td>\n",
       "      <td>173005</td>\n",
       "      <td>0</td>\n",
       "      <td>4</td>\n",
       "      <td>0.076384</td>\n",
       "      <td>0.106172</td>\n",
       "    </tr>\n",
       "    <tr>\n",
       "      <th>3955</th>\n",
       "      <td>790</td>\n",
       "      <td>173005</td>\n",
       "      <td>0</td>\n",
       "      <td>6</td>\n",
       "      <td>0.076384</td>\n",
       "      <td>0.069433</td>\n",
       "    </tr>\n",
       "    <tr>\n",
       "      <th>4004</th>\n",
       "      <td>800</td>\n",
       "      <td>173005</td>\n",
       "      <td>0</td>\n",
       "      <td>6</td>\n",
       "      <td>0.076384</td>\n",
       "      <td>0.069433</td>\n",
       "    </tr>\n",
       "    <tr>\n",
       "      <th>4140</th>\n",
       "      <td>830</td>\n",
       "      <td>173005</td>\n",
       "      <td>0</td>\n",
       "      <td>5</td>\n",
       "      <td>0.076384</td>\n",
       "      <td>0.084531</td>\n",
       "    </tr>\n",
       "    <tr>\n",
       "      <th>4212</th>\n",
       "      <td>843</td>\n",
       "      <td>173005</td>\n",
       "      <td>0</td>\n",
       "      <td>9</td>\n",
       "      <td>0.076384</td>\n",
       "      <td>0.025623</td>\n",
       "    </tr>\n",
       "    <tr>\n",
       "      <th>4722</th>\n",
       "      <td>942</td>\n",
       "      <td>173005</td>\n",
       "      <td>0</td>\n",
       "      <td>6</td>\n",
       "      <td>0.076384</td>\n",
       "      <td>0.069433</td>\n",
       "    </tr>\n",
       "    <tr>\n",
       "      <th>4829</th>\n",
       "      <td>965</td>\n",
       "      <td>173005</td>\n",
       "      <td>0</td>\n",
       "      <td>6</td>\n",
       "      <td>0.076384</td>\n",
       "      <td>0.069433</td>\n",
       "    </tr>\n",
       "    <tr>\n",
       "      <th>5258</th>\n",
       "      <td>1045</td>\n",
       "      <td>173005</td>\n",
       "      <td>0</td>\n",
       "      <td>6</td>\n",
       "      <td>0.076384</td>\n",
       "      <td>0.069433</td>\n",
       "    </tr>\n",
       "    <tr>\n",
       "      <th>5649</th>\n",
       "      <td>1118</td>\n",
       "      <td>173005</td>\n",
       "      <td>0</td>\n",
       "      <td>6</td>\n",
       "      <td>0.076384</td>\n",
       "      <td>0.069433</td>\n",
       "    </tr>\n",
       "    <tr>\n",
       "      <th>6009</th>\n",
       "      <td>1184</td>\n",
       "      <td>173005</td>\n",
       "      <td>0</td>\n",
       "      <td>9</td>\n",
       "      <td>0.076384</td>\n",
       "      <td>0.025623</td>\n",
       "    </tr>\n",
       "    <tr>\n",
       "      <th>6069</th>\n",
       "      <td>1195</td>\n",
       "      <td>173005</td>\n",
       "      <td>0</td>\n",
       "      <td>6</td>\n",
       "      <td>0.076384</td>\n",
       "      <td>0.069433</td>\n",
       "    </tr>\n",
       "  </tbody>\n",
       "</table>\n",
       "</div>"
      ],
      "text/plain": [
       "      display_id   ad_id  clicked  # ads in display  overall click ratio  \\\n",
       "257           54  173005        0                 9             0.076384   \n",
       "500          102  173005        0                 3             0.076384   \n",
       "505          103  173005        0                 5             0.076384   \n",
       "916          181  173005        0                 6             0.076384   \n",
       "925          183  173005        0                 6             0.076384   \n",
       "1168         226  173005        0                 2             0.076384   \n",
       "1599         311  173005        0                 6             0.076384   \n",
       "2000         394  173005        0                 9             0.076384   \n",
       "2039         403  173005        0                 5             0.076384   \n",
       "2103         414  173005        0                 4             0.076384   \n",
       "2166         427  173005        0                 6             0.076384   \n",
       "2800         556  173005        0                 9             0.076384   \n",
       "2927         581  173005        0                 8             0.076384   \n",
       "2934         583  173005        0                 6             0.076384   \n",
       "2945         585  173005        0                 6             0.076384   \n",
       "3319         661  173005        0                 4             0.076384   \n",
       "3421         682  173005        0                 6             0.076384   \n",
       "3610         723  173005        0                 9             0.076384   \n",
       "3767         755  173005        0                 6             0.076384   \n",
       "3774         756  173005        0                 4             0.076384   \n",
       "3955         790  173005        0                 6             0.076384   \n",
       "4004         800  173005        0                 6             0.076384   \n",
       "4140         830  173005        0                 5             0.076384   \n",
       "4212         843  173005        0                 9             0.076384   \n",
       "4722         942  173005        0                 6             0.076384   \n",
       "4829         965  173005        0                 6             0.076384   \n",
       "5258        1045  173005        0                 6             0.076384   \n",
       "5649        1118  173005        0                 6             0.076384   \n",
       "6009        1184  173005        0                 9             0.076384   \n",
       "6069        1195  173005        0                 6             0.076384   \n",
       "\n",
       "      click ratio per display size  \n",
       "257                       0.025623  \n",
       "500                       0.166994  \n",
       "505                       0.084531  \n",
       "916                       0.069433  \n",
       "925                       0.069433  \n",
       "1168                      0.256781  \n",
       "1599                      0.069433  \n",
       "2000                      0.025623  \n",
       "2039                      0.084531  \n",
       "2103                      0.106172  \n",
       "2166                      0.069433  \n",
       "2800                      0.025623  \n",
       "2927                      0.044344  \n",
       "2934                      0.069433  \n",
       "2945                      0.069433  \n",
       "3319                      0.106172  \n",
       "3421                      0.069433  \n",
       "3610                      0.025623  \n",
       "3767                      0.069433  \n",
       "3774                      0.106172  \n",
       "3955                      0.069433  \n",
       "4004                      0.069433  \n",
       "4140                      0.084531  \n",
       "4212                      0.025623  \n",
       "4722                      0.069433  \n",
       "4829                      0.069433  \n",
       "5258                      0.069433  \n",
       "5649                      0.069433  \n",
       "6009                      0.025623  \n",
       "6069                      0.069433  "
      ]
     },
     "execution_count": 11,
     "metadata": {},
     "output_type": "execute_result"
    }
   ],
   "source": [
    "dfTrain[dfTrain['ad_id']==adIDMostDisplayed].head(30)"
   ]
  },
  {
   "cell_type": "code",
   "execution_count": 37,
   "metadata": {
    "collapsed": false
   },
   "outputs": [
    {
     "data": {
      "text/plain": [
       "<matplotlib.axes._subplots.AxesSubplot at 0x7f41eb825110>"
      ]
     },
     "execution_count": 37,
     "metadata": {},
     "output_type": "execute_result"
    },
    {
     "data": {
      "image/png": "[encoded data removed]",
      "text/plain": [
       "<matplotlib.figure.Figure at 0x7f41e93e7f10>"
      ]
     },
     "metadata": {},
     "output_type": "display_data"
    }
   ],
   "source": [
    "sns.boxplot(x=\"# ads in display\", y=\"click ratio per display size\", data=dfTrain[dfTrain['ad_id']==adIDMostDisplayed])"
   ]
  },
  {
   "cell_type": "code",
   "execution_count": 20,
   "metadata": {
    "collapsed": false
   },
   "outputs": [],
   "source": [
    "adHighClicks = dfTrain[(dfTrain['overall click ratio'] > 0.7) & (dfTrain['overall click ratio'] < 0.9)]['ad_id']"
   ]
  },
  {
   "cell_type": "code",
   "execution_count": 24,
   "metadata": {
    "collapsed": false
   },
   "outputs": [],
   "source": [
    "adCounts = dfTrain['ad_id'].value_counts()"
   ]
  },
  {
   "cell_type": "code",
   "execution_count": 34,
   "metadata": {
    "collapsed": false
   },
   "outputs": [],
   "source": [
    "adHighCounts = adCounts[adCounts > 10000]"
   ]
  },
  {
   "cell_type": "code",
   "execution_count": 35,
   "metadata": {
    "collapsed": false
   },
   "outputs": [
    {
     "data": {
      "text/plain": [
       "{26274, 42707}"
      ]
     },
     "execution_count": 35,
     "metadata": {},
     "output_type": "execute_result"
    }
   ],
   "source": [
    "set(adHighClicks.index).intersection(set(adHighCounts))"
   ]
  },
  {
   "cell_type": "code",
   "execution_count": 38,
   "metadata": {
    "collapsed": false
   },
   "outputs": [
    {
     "data": {
      "text/plain": [
       "<matplotlib.axes._subplots.AxesSubplot at 0x7f41eb980750>"
      ]
     },
     "execution_count": 38,
     "metadata": {},
     "output_type": "execute_result"
    },
    {
     "data": {
      "image/png": "[encoded data removed]",
      "text/plain": [
       "<matplotlib.figure.Figure at 0x7f41eb982e90>"
      ]
     },
     "metadata": {},
     "output_type": "display_data"
    }
   ],
   "source": [
    "sns.boxplot(x=\"# ads in display\", y=\"click ratio per display size\", data=dfTrain[dfTrain['ad_id']==26274])"
   ]
  },
  {
   "cell_type": "code",
   "execution_count": 39,
   "metadata": {
    "collapsed": false
   },
   "outputs": [
    {
     "data": {
      "text/plain": [
       "<matplotlib.axes._subplots.AxesSubplot at 0x7f41e8f20dd0>"
      ]
     },
     "execution_count": 39,
     "metadata": {},
     "output_type": "execute_result"
    },
    {
     "data": {
      "image/png": "[encoded data removed]",
      "text/plain": [
       "<matplotlib.figure.Figure at 0x7f41e8f20e50>"
      ]
     },
     "metadata": {},
     "output_type": "display_data"
    }
   ],
   "source": [
    "sns.boxplot(x=\"# ads in display\", y=\"click ratio per display size\", data=dfTrain[dfTrain['ad_id']==42707])"
   ]
  },
  {
   "cell_type": "code",
   "execution_count": null,
   "metadata": {
    "collapsed": true
   },
   "outputs": [],
   "source": []
  }
 ],
 "metadata": {
  "anaconda-cloud": {},
  "kernelspec": {
   "display_name": "Python [default]",
   "language": "python",
   "name": "python2"
  },
  "language_info": {
   "codemirror_mode": {
    "name": "ipython",
    "version": 2
   },
   "file_extension": ".py",
   "mimetype": "text/x-python",
   "name": "python",
   "nbconvert_exporter": "python",
   "pygments_lexer": "ipython2",
   "version": "2.7.12"
  }
 },
 "nbformat": 4,
 "nbformat_minor": 1
}
