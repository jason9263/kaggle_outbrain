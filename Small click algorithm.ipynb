{
 "cells": [
  {
   "cell_type": "markdown",
   "metadata": {},
   "source": [
    "## Got this online kernel from Kaggle. It scores 0.63714"
   ]
  },
  {
   "cell_type": "code",
   "execution_count": 1,
   "metadata": {
    "collapsed": true
   },
   "outputs": [],
   "source": [
    "import pandas as pd\n",
    "import numpy as np\n",
    "\n",
    "dtypes = {'ad_id': np.float32, 'clicked': np.int8}"
   ]
  },
  {
   "cell_type": "markdown",
   "metadata": {},
   "source": [
    "## Reads the training data and calculates the count, sum, and mean for each ad. Interesting: Completely strips the display_id here."
   ]
  },
  {
   "cell_type": "code",
   "execution_count": 2,
   "metadata": {
    "collapsed": true
   },
   "outputs": [],
   "source": [
    "train = pd.read_csv(\"data/clicks_train.csv\", usecols=['ad_id','clicked'], dtype=dtypes)\n",
    "\n",
    "ad_likelihood = train.groupby('ad_id').clicked.agg(['count','sum','mean']).reset_index()\n",
    "M = train.clicked.mean()\n",
    "del train   # free up memory"
   ]
  },
  {
   "cell_type": "markdown",
   "metadata": {},
   "source": [
    "## Possible replacement for likelihood\n",
    "\n",
    "### Use Bayes Law as the measure. So likelihood of being clicked given ad = ad_id\n",
    "\n",
    "+ P(ad|+) = # ads with ad_id in the set of all clicked ads divided by total\n",
    "+ P(+) = clicks divided by (clicks plus not clicks)\n",
    "+ P(+|not ad) = # clicks for all ads not ad_id over total\n",
    "+ P(not ad) = # not ad_id over total ads (1 - frequency of ad_id)\n",
    "\n",
    "$\\huge P(+|{ad}) = \\frac{P({ad}|+) \\times P(+)}{ P({ad}|+) \\times P(+) + P(+|\\overline{ad}) \\times P(\\overline{ad})}$"
   ]
  },
  {
   "cell_type": "markdown",
   "metadata": {},
   "source": [
    "## Good god what it that thing? I've asked on the forum why the 12. Otherwise, it looks like the equation just handles the case where there are no clicks on an ad despite it being shown. The ad will default to the global mean M."
   ]
  },
  {
   "cell_type": "code",
   "execution_count": 3,
   "metadata": {
    "collapsed": false
   },
   "outputs": [
    {
     "data": {
      "text/html": [
       "<div>\n",
       "<table border=\"1\" class=\"dataframe\">\n",
       "  <thead>\n",
       "    <tr style=\"text-align: right;\">\n",
       "      <th></th>\n",
       "      <th>ad_id</th>\n",
       "      <th>count</th>\n",
       "      <th>sum</th>\n",
       "      <th>mean</th>\n",
       "      <th>likelihood</th>\n",
       "    </tr>\n",
       "  </thead>\n",
       "  <tbody>\n",
       "    <tr>\n",
       "      <th>0</th>\n",
       "      <td>1.0</td>\n",
       "      <td>2</td>\n",
       "      <td>0.0</td>\n",
       "      <td>0.000000</td>\n",
       "      <td>0.165982</td>\n",
       "    </tr>\n",
       "    <tr>\n",
       "      <th>1</th>\n",
       "      <td>2.0</td>\n",
       "      <td>22</td>\n",
       "      <td>1.0</td>\n",
       "      <td>0.045455</td>\n",
       "      <td>0.097757</td>\n",
       "    </tr>\n",
       "    <tr>\n",
       "      <th>2</th>\n",
       "      <td>3.0</td>\n",
       "      <td>161</td>\n",
       "      <td>11.0</td>\n",
       "      <td>0.068323</td>\n",
       "      <td>0.077016</td>\n",
       "    </tr>\n",
       "    <tr>\n",
       "      <th>3</th>\n",
       "      <td>4.0</td>\n",
       "      <td>32</td>\n",
       "      <td>4.0</td>\n",
       "      <td>0.125000</td>\n",
       "      <td>0.143721</td>\n",
       "    </tr>\n",
       "    <tr>\n",
       "      <th>4</th>\n",
       "      <td>5.0</td>\n",
       "      <td>1</td>\n",
       "      <td>0.0</td>\n",
       "      <td>0.000000</td>\n",
       "      <td>0.178750</td>\n",
       "    </tr>\n",
       "  </tbody>\n",
       "</table>\n",
       "</div>"
      ],
      "text/plain": [
       "   ad_id  count   sum      mean  likelihood\n",
       "0    1.0      2   0.0  0.000000    0.165982\n",
       "1    2.0     22   1.0  0.045455    0.097757\n",
       "2    3.0    161  11.0  0.068323    0.077016\n",
       "3    4.0     32   4.0  0.125000    0.143721\n",
       "4    5.0      1   0.0  0.000000    0.178750"
      ]
     },
     "execution_count": 3,
     "metadata": {},
     "output_type": "execute_result"
    }
   ],
   "source": [
    "ad_likelihood['likelihood'] = (ad_likelihood['sum'] + 12*M) / (12 + ad_likelihood['count'])\n",
    "ad_likelihood.head()"
   ]
  },
  {
   "cell_type": "markdown",
   "metadata": {},
   "source": [
    "## Read the test data"
   ]
  },
  {
   "cell_type": "code",
   "execution_count": 5,
   "metadata": {
    "collapsed": true
   },
   "outputs": [],
   "source": [
    "test = pd.read_csv(\"data/clicks_test.csv\")"
   ]
  },
  {
   "cell_type": "markdown",
   "metadata": {},
   "source": [
    "## Add the ad_likelihood to the test data"
   ]
  },
  {
   "cell_type": "code",
   "execution_count": 6,
   "metadata": {
    "collapsed": true
   },
   "outputs": [],
   "source": [
    "test = test.merge(ad_likelihood, how='left')"
   ]
  },
  {
   "cell_type": "code",
   "execution_count": 7,
   "metadata": {
    "collapsed": false
   },
   "outputs": [
    {
     "data": {
      "text/html": [
       "<div>\n",
       "<table border=\"1\" class=\"dataframe\">\n",
       "  <thead>\n",
       "    <tr style=\"text-align: right;\">\n",
       "      <th></th>\n",
       "      <th>display_id</th>\n",
       "      <th>ad_id</th>\n",
       "      <th>count</th>\n",
       "      <th>sum</th>\n",
       "      <th>mean</th>\n",
       "      <th>likelihood</th>\n",
       "    </tr>\n",
       "  </thead>\n",
       "  <tbody>\n",
       "    <tr>\n",
       "      <th>0</th>\n",
       "      <td>16874594</td>\n",
       "      <td>66758</td>\n",
       "      <td>5642.0</td>\n",
       "      <td>373.0</td>\n",
       "      <td>0.066111</td>\n",
       "      <td>0.067219</td>\n",
       "    </tr>\n",
       "    <tr>\n",
       "      <th>1</th>\n",
       "      <td>16874594</td>\n",
       "      <td>150083</td>\n",
       "      <td>77514.0</td>\n",
       "      <td>5261.0</td>\n",
       "      <td>0.067872</td>\n",
       "      <td>0.059845</td>\n",
       "    </tr>\n",
       "    <tr>\n",
       "      <th>2</th>\n",
       "      <td>16874594</td>\n",
       "      <td>162754</td>\n",
       "      <td>66599.0</td>\n",
       "      <td>15919.0</td>\n",
       "      <td>0.239028</td>\n",
       "      <td>0.229476</td>\n",
       "    </tr>\n",
       "    <tr>\n",
       "      <th>3</th>\n",
       "      <td>16874594</td>\n",
       "      <td>170392</td>\n",
       "      <td>15054.0</td>\n",
       "      <td>5261.0</td>\n",
       "      <td>0.349475</td>\n",
       "      <td>0.344313</td>\n",
       "    </tr>\n",
       "    <tr>\n",
       "      <th>4</th>\n",
       "      <td>16874594</td>\n",
       "      <td>172888</td>\n",
       "      <td>15081.0</td>\n",
       "      <td>5162.0</td>\n",
       "      <td>0.342285</td>\n",
       "      <td>0.335180</td>\n",
       "    </tr>\n",
       "  </tbody>\n",
       "</table>\n",
       "</div>"
      ],
      "text/plain": [
       "   display_id   ad_id    count      sum      mean  likelihood\n",
       "0    16874594   66758   5642.0    373.0  0.066111    0.067219\n",
       "1    16874594  150083  77514.0   5261.0  0.067872    0.059845\n",
       "2    16874594  162754  66599.0  15919.0  0.239028    0.229476\n",
       "3    16874594  170392  15054.0   5261.0  0.349475    0.344313\n",
       "4    16874594  172888  15081.0   5162.0  0.342285    0.335180"
      ]
     },
     "execution_count": 7,
     "metadata": {},
     "output_type": "execute_result"
    }
   ],
   "source": [
    "test.head()"
   ]
  },
  {
   "cell_type": "markdown",
   "metadata": {},
   "source": [
    "## Replace any NaNs with the global mean"
   ]
  },
  {
   "cell_type": "code",
   "execution_count": 8,
   "metadata": {
    "collapsed": true
   },
   "outputs": [],
   "source": [
    "test.likelihood.fillna(M, inplace=True)"
   ]
  },
  {
   "cell_type": "markdown",
   "metadata": {},
   "source": [
    "## Rearrange the table sorting the ads based on likelihood. This is a nice approach."
   ]
  },
  {
   "cell_type": "code",
   "execution_count": 9,
   "metadata": {
    "collapsed": true
   },
   "outputs": [],
   "source": [
    "test.sort_values(['display_id','likelihood'], inplace=True, ascending=False)"
   ]
  },
  {
   "cell_type": "markdown",
   "metadata": {},
   "source": [
    "## Now just rearrange the dataframe so that the ads and listed after each display_id. Again, really elegant code."
   ]
  },
  {
   "cell_type": "code",
   "execution_count": 16,
   "metadata": {
    "collapsed": true
   },
   "outputs": [],
   "source": [
    "subm = test.groupby('display_id')['ad_id'].apply(lambda x: \" \".join(map(str,x)))"
   ]
  },
  {
   "cell_type": "code",
   "execution_count": 17,
   "metadata": {
    "collapsed": false
   },
   "outputs": [
    {
     "data": {
      "text/plain": [
       "display_id\n",
       "16874594             170392 172888 162754 66758 150083 180797\n",
       "16874595                                    8846 143982 30609\n",
       "16874596    289915 11430 289122 132820 57197 153260 173005...\n",
       "16874597    305790 285834 143981 182039 180965 155945 3088...\n",
       "16874598                           145937 335632 67292 250082\n",
       "Name: ad_id, dtype: object"
      ]
     },
     "execution_count": 17,
     "metadata": {},
     "output_type": "execute_result"
    }
   ],
   "source": [
    "subm.head()"
   ]
  },
  {
   "cell_type": "code",
   "execution_count": 13,
   "metadata": {
    "collapsed": true
   },
   "outputs": [],
   "source": [
    "subm.to_csv(\"data/submission.csv.gz\", index=False, compression='gzip')"
   ]
  },
  {
   "cell_type": "code",
   "execution_count": null,
   "metadata": {
    "collapsed": true
   },
   "outputs": [],
   "source": []
  }
 ],
 "metadata": {
  "anaconda-cloud": {},
  "kernelspec": {
   "display_name": "Python [default]",
   "language": "python",
   "name": "python2"
  },
  "language_info": {
   "codemirror_mode": {
    "name": "ipython",
    "version": 2
   },
   "file_extension": ".py",
   "mimetype": "text/x-python",
   "name": "python",
   "nbconvert_exporter": "python",
   "pygments_lexer": "ipython2",
   "version": "2.7.12"
  }
 },
 "nbformat": 4,
 "nbformat_minor": 1
}
